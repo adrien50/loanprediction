{
  "nbformat": 4,
  "nbformat_minor": 0,
  "metadata": {
    "colab": {
      "name": "loanprediction.ipynb",
      "provenance": [],
      "collapsed_sections": [],
      "authorship_tag": "ABX9TyOrLOIrpiSSSGV5MUxNeRCg"
    },
    "kernelspec": {
      "name": "python3",
      "display_name": "Python 3"
    }
  },
  "cells": [
    {
      "cell_type": "code",
      "metadata": {
        "id": "JzWSrQj7EWDn",
        "colab_type": "code",
        "colab": {}
      },
      "source": [
        "import pandas as pd\n",
        "import numpy as np\n",
        "import os\n",
        "import matplotlib.pyplot as plt\n",
        "import seaborn as sns\n",
        "import statistics\n",
        "from sklearn.model_selection import train_test_split,GridSearchCV,cross_val_score\n",
        "from sklearn.preprocessing import LabelBinarizer,StandardScaler,OrdinalEncoder\n",
        "from sklearn.metrics import confusion_matrix\n",
        "from sklearn.metrics import roc_auc_score\n",
        "from sklearn.metrics import roc_curve\n",
        "from scipy.stats import boxcox\n",
        "from sklearn.linear_model import LogisticRegression,RidgeClassifier, PassiveAggressiveClassifier\n",
        "from sklearn import metrics\n",
        "from sklearn import preprocessing\n",
        "from sklearn.ensemble import RandomForestClassifier, GradientBoostingClassifier\n",
        "from imblearn.over_sampling import SMOTE\n",
        "from fancyimpute import KNN,SoftImpute\n",
        "from xgboost import plot_importance\n",
        "from matplotlib import pyplot\n",
        "from sklearn.naive_bayes import BernoulliNB\n",
        "from sklearn.neighbors import KNeighborsClassifier\n",
        "from sklearn.svm import LinearSVC\n",
        "from sklearn.tree import DecisionTreeClassifier\n",
        "from xgboost import XGBClassifier\n",
        "import joblib\n",
        "\n",
        "%matplotlib inline\n"
      ],
      "execution_count": null,
      "outputs": []
    },
    {
      "cell_type": "code",
      "metadata": {
        "id": "V4_0Tm7wEpCh",
        "colab_type": "code",
        "colab": {
          "base_uri": "https://localhost:8080/",
          "height": 530
        },
        "outputId": "3020eb69-66f3-4c19-ea4d-51e34b63cc4a"
      },
      "source": [
        "#############Reading the dataset############################\n",
        "data=pd.read_csv(\"LoansTrainingSetV2.csv\",low_memory=False)\n",
        "data.head()"
      ],
      "execution_count": null,
      "outputs": [
        {
          "output_type": "execute_result",
          "data": {
            "text/html": [
              "<div>\n",
              "<style scoped>\n",
              "    .dataframe tbody tr th:only-of-type {\n",
              "        vertical-align: middle;\n",
              "    }\n",
              "\n",
              "    .dataframe tbody tr th {\n",
              "        vertical-align: top;\n",
              "    }\n",
              "\n",
              "    .dataframe thead th {\n",
              "        text-align: right;\n",
              "    }\n",
              "</style>\n",
              "<table border=\"1\" class=\"dataframe\">\n",
              "  <thead>\n",
              "    <tr style=\"text-align: right;\">\n",
              "      <th></th>\n",
              "      <th>Loan ID</th>\n",
              "      <th>Customer ID</th>\n",
              "      <th>Loan Status</th>\n",
              "      <th>Current Loan Amount</th>\n",
              "      <th>Term</th>\n",
              "      <th>Credit Score</th>\n",
              "      <th>Years in current job</th>\n",
              "      <th>Home Ownership</th>\n",
              "      <th>Annual Income</th>\n",
              "      <th>Purpose</th>\n",
              "      <th>Monthly Debt</th>\n",
              "      <th>Years of Credit History</th>\n",
              "      <th>Months since last delinquent</th>\n",
              "      <th>Number of Open Accounts</th>\n",
              "      <th>Number of Credit Problems</th>\n",
              "      <th>Current Credit Balance</th>\n",
              "      <th>Maximum Open Credit</th>\n",
              "      <th>Bankruptcies</th>\n",
              "      <th>Tax Liens</th>\n",
              "    </tr>\n",
              "  </thead>\n",
              "  <tbody>\n",
              "    <tr>\n",
              "      <th>0</th>\n",
              "      <td>6cf51492-02a2-423e-b93d-676f05b9ad53</td>\n",
              "      <td>7c202b37-2add-44e8-9aea-d5b119aea935</td>\n",
              "      <td>Loan Refused</td>\n",
              "      <td>12232</td>\n",
              "      <td>Short Term</td>\n",
              "      <td>7280.0</td>\n",
              "      <td>&lt; 1 year</td>\n",
              "      <td>Rent</td>\n",
              "      <td>46643.0</td>\n",
              "      <td>Debt Consolidation</td>\n",
              "      <td>777.39</td>\n",
              "      <td>18.0</td>\n",
              "      <td>10.0</td>\n",
              "      <td>12</td>\n",
              "      <td>0</td>\n",
              "      <td>6762</td>\n",
              "      <td>7946</td>\n",
              "      <td>0.0</td>\n",
              "      <td>0.0</td>\n",
              "    </tr>\n",
              "    <tr>\n",
              "      <th>1</th>\n",
              "      <td>552e7ade-4292-4354-9ff9-c48031697d72</td>\n",
              "      <td>e7217b0a-07ac-47dd-b379-577b5a35b7c6</td>\n",
              "      <td>Loan Refused</td>\n",
              "      <td>25014</td>\n",
              "      <td>Long Term</td>\n",
              "      <td>7330.0</td>\n",
              "      <td>10+ years</td>\n",
              "      <td>Home Mortgage</td>\n",
              "      <td>81099.0</td>\n",
              "      <td>Debt Consolidation</td>\n",
              "      <td>892.09</td>\n",
              "      <td>26.7</td>\n",
              "      <td>NaN</td>\n",
              "      <td>14</td>\n",
              "      <td>0</td>\n",
              "      <td>35706</td>\n",
              "      <td>77961</td>\n",
              "      <td>0.0</td>\n",
              "      <td>0.0</td>\n",
              "    </tr>\n",
              "    <tr>\n",
              "      <th>2</th>\n",
              "      <td>9b5e32b3-8d76-4801-afc8-d729d5a2e6b9</td>\n",
              "      <td>0a62fc41-16c8-40b5-92ff-9e4b763ce714</td>\n",
              "      <td>Loan Refused</td>\n",
              "      <td>16117</td>\n",
              "      <td>Short Term</td>\n",
              "      <td>7240.0</td>\n",
              "      <td>9 years</td>\n",
              "      <td>Home Mortgage</td>\n",
              "      <td>60438.0</td>\n",
              "      <td>Home Improvements</td>\n",
              "      <td>1244.02</td>\n",
              "      <td>16.7</td>\n",
              "      <td>32.0</td>\n",
              "      <td>11</td>\n",
              "      <td>1</td>\n",
              "      <td>11275</td>\n",
              "      <td>14815</td>\n",
              "      <td>1.0</td>\n",
              "      <td>0.0</td>\n",
              "    </tr>\n",
              "    <tr>\n",
              "      <th>3</th>\n",
              "      <td>5419b7c7-ac11-4be2-a8a7-b131fb6d6dbe</td>\n",
              "      <td>30f36c59-5182-4482-8bbb-5b736849ae43</td>\n",
              "      <td>Loan Refused</td>\n",
              "      <td>11716</td>\n",
              "      <td>Short Term</td>\n",
              "      <td>7400.0</td>\n",
              "      <td>3 years</td>\n",
              "      <td>Rent</td>\n",
              "      <td>34171.0</td>\n",
              "      <td>Debt Consolidation</td>\n",
              "      <td>990.94</td>\n",
              "      <td>10.0</td>\n",
              "      <td>NaN</td>\n",
              "      <td>21</td>\n",
              "      <td>0</td>\n",
              "      <td>7009</td>\n",
              "      <td>43533</td>\n",
              "      <td>0.0</td>\n",
              "      <td>0.0</td>\n",
              "    </tr>\n",
              "    <tr>\n",
              "      <th>4</th>\n",
              "      <td>1450910f-9495-4fc9-afaf-9bdf4b9821df</td>\n",
              "      <td>70c26012-bba5-42c0-8dcb-75295ada31bb</td>\n",
              "      <td>Loan Refused</td>\n",
              "      <td>9789</td>\n",
              "      <td>Long Term</td>\n",
              "      <td>6860.0</td>\n",
              "      <td>10+ years</td>\n",
              "      <td>Home Mortgage</td>\n",
              "      <td>47003.0</td>\n",
              "      <td>Home Improvements</td>\n",
              "      <td>503.71</td>\n",
              "      <td>16.7</td>\n",
              "      <td>25.0</td>\n",
              "      <td>13</td>\n",
              "      <td>1</td>\n",
              "      <td>16913</td>\n",
              "      <td>19553</td>\n",
              "      <td>1.0</td>\n",
              "      <td>0.0</td>\n",
              "    </tr>\n",
              "  </tbody>\n",
              "</table>\n",
              "</div>"
            ],
            "text/plain": [
              "                                Loan ID  ... Tax Liens\n",
              "0  6cf51492-02a2-423e-b93d-676f05b9ad53  ...       0.0\n",
              "1  552e7ade-4292-4354-9ff9-c48031697d72  ...       0.0\n",
              "2  9b5e32b3-8d76-4801-afc8-d729d5a2e6b9  ...       0.0\n",
              "3  5419b7c7-ac11-4be2-a8a7-b131fb6d6dbe  ...       0.0\n",
              "4  1450910f-9495-4fc9-afaf-9bdf4b9821df  ...       0.0\n",
              "\n",
              "[5 rows x 19 columns]"
            ]
          },
          "metadata": {
            "tags": []
          },
          "execution_count": 59
        }
      ]
    },
    {
      "cell_type": "markdown",
      "metadata": {
        "id": "gyLnDL9m-MXu",
        "colab_type": "text"
      },
      "source": [
        ""
      ]
    },
    {
      "cell_type": "code",
      "metadata": {
        "id": "xmF17tf7F0vf",
        "colab_type": "code",
        "colab": {}
      },
      "source": [
        "###############EDA Starts here####################################"
      ],
      "execution_count": null,
      "outputs": []
    },
    {
      "cell_type": "code",
      "metadata": {
        "id": "ff1Ljv5AF-ac",
        "colab_type": "code",
        "colab": {
          "base_uri": "https://localhost:8080/",
          "height": 34
        },
        "outputId": "4e267aa8-63a6-4adc-a4a8-85ddb9eebfb3"
      },
      "source": [
        "data.head(5)\n",
        "len(data)"
      ],
      "execution_count": null,
      "outputs": [
        {
          "output_type": "execute_result",
          "data": {
            "text/plain": [
              "111107"
            ]
          },
          "metadata": {
            "tags": []
          },
          "execution_count": 61
        }
      ]
    },
    {
      "cell_type": "code",
      "metadata": {
        "id": "nuGoSQcIGDb4",
        "colab_type": "code",
        "colab": {}
      },
      "source": [
        "##Drop the duplicates with respect to LOAN ID\n",
        "data.drop_duplicates(subset=\"Loan ID\",keep='first',inplace=True)"
      ],
      "execution_count": null,
      "outputs": []
    },
    {
      "cell_type": "code",
      "metadata": {
        "id": "jwn5_-y_Hwxd",
        "colab_type": "code",
        "colab": {
          "base_uri": "https://localhost:8080/",
          "height": 68
        },
        "outputId": "de2e6efa-2fa7-4713-c887-a4e3807aa368"
      },
      "source": [
        "##########PLotting the loan status \n",
        "status=data[\"Loan Status\"].value_counts() \n",
        "status"
      ],
      "execution_count": null,
      "outputs": [
        {
          "output_type": "execute_result",
          "data": {
            "text/plain": [
              "Loan Given      63737\n",
              "Loan Refused    25173\n",
              "Name: Loan Status, dtype: int64"
            ]
          },
          "metadata": {
            "tags": []
          },
          "execution_count": 63
        }
      ]
    },
    {
      "cell_type": "code",
      "metadata": {
        "id": "SSe4dBP_IINF",
        "colab_type": "code",
        "colab": {
          "base_uri": "https://localhost:8080/",
          "height": 353
        },
        "outputId": "0e1b1c38-1fa0-418b-e5f1-7e053f9c1753"
      },
      "source": [
        "\n",
        "plt.figure(figsize=(10,5))\n",
        "sns.barplot(status.index, status.values, alpha=0.8)\n",
        "plt.title('Loan Status distribution')\n",
        "plt.ylabel('Number of Occurrences', fontsize=12)\n",
        "plt.xlabel('Loan Status', fontsize=12)\n",
        "plt.show()"
      ],
      "execution_count": null,
      "outputs": [
        {
          "output_type": "display_data",
          "data": {
            "image/png": "[encoded data removed]",
            "text/plain": [
              "<Figure size 720x360 with 1 Axes>"
            ]
          },
          "metadata": {
            "tags": [],
            "needs_background": "light"
          }
        }
      ]
    },
    {
      "cell_type": "code",
      "metadata": {
        "id": "mixNBnVKImX1",
        "colab_type": "code",
        "colab": {}
      },
      "source": [
        "###########Now we will go over column by column to fix the data #################"
      ],
      "execution_count": null,
      "outputs": []
    },
    {
      "cell_type": "code",
      "metadata": {
        "id": "8wGdGGunIsfr",
        "colab_type": "code",
        "colab": {
          "base_uri": "https://localhost:8080/",
          "height": 170
        },
        "outputId": "fc16c4f0-0865-4a78-b35b-30d13590da15"
      },
      "source": [
        "###Current Loan Amount ############\n",
        "data[\"Current Loan Amount\"].describe()"
      ],
      "execution_count": null,
      "outputs": [
        {
          "output_type": "execute_result",
          "data": {
            "text/plain": [
              "count    8.891000e+04\n",
              "mean     1.433878e+07\n",
              "std      3.502996e+07\n",
              "min      4.910000e+02\n",
              "25%      8.283000e+03\n",
              "50%      1.435500e+04\n",
              "75%      2.448500e+04\n",
              "max      1.000000e+08\n",
              "Name: Current Loan Amount, dtype: float64"
            ]
          },
          "metadata": {
            "tags": []
          },
          "execution_count": 66
        }
      ]
    },
    {
      "cell_type": "code",
      "metadata": {
        "id": "LyBzlZNWJciK",
        "colab_type": "code",
        "colab": {
          "base_uri": "https://localhost:8080/",
          "height": 295
        },
        "outputId": "935ca9f0-e71b-4989-9ecc-2426a14be573"
      },
      "source": [
        "###Current Loan Amount ############\n",
        "data[\"Current Loan Amount\"].describe()\n",
        "\n",
        "\n",
        "data[\"Current Loan Amount\"].plot.hist(grid=True, bins=20, rwidth=0.9,\n",
        "                   color='#607c8e')\n",
        "plt.title('Commute Times for 1,000 Commuters')\n",
        "plt.xlabel('Counts')\n",
        "plt.ylabel('Commute Time')\n",
        "plt.grid(axis='y', alpha=0.75)"
      ],
      "execution_count": null,
      "outputs": [
        {
          "output_type": "display_data",
          "data": {
            "image/png": "[encoded data removed]",
            "text/plain": [
              "<Figure size 432x288 with 1 Axes>"
            ]
          },
          "metadata": {
            "tags": [],
            "needs_background": "light"
          }
        }
      ]
    },
    {
      "cell_type": "code",
      "metadata": {
        "id": "dZ7hgRCFJywe",
        "colab_type": "code",
        "colab": {
          "base_uri": "https://localhost:8080/",
          "height": 34
        },
        "outputId": "cf543073-99e3-43cc-a8ba-dacd5bed9680"
      },
      "source": [
        "#Finding IQR's for outlier removal\n",
        "\n",
        "Q1 = data[\"Current Loan Amount\"].quantile(0.25)\n",
        "Q3 = data[\"Current Loan Amount\"].quantile(0.75)\n",
        "IQR = Q3 - Q1\n",
        "print(IQR)"
      ],
      "execution_count": null,
      "outputs": [
        {
          "output_type": "stream",
          "text": [
            "16202.0\n"
          ],
          "name": "stdout"
        }
      ]
    },
    {
      "cell_type": "code",
      "metadata": {
        "id": "31WFLfQiM8A-",
        "colab_type": "code",
        "colab": {}
      },
      "source": [
        ""
      ],
      "execution_count": null,
      "outputs": []
    },
    {
      "cell_type": "code",
      "metadata": {
        "id": "g1rr3OXwKcTM",
        "colab_type": "code",
        "colab": {
          "base_uri": "https://localhost:8080/",
          "height": 221
        },
        "outputId": "0dbd289a-ae28-4404-f863-0dc82312c404"
      },
      "source": [
        "data[\"Current Loan Amount\"][((data[\"Current Loan Amount\"] < (Q1 - 1.5 * IQR)) |(data[\"Current Loan Amount\"] > (Q3 + 1.5 * IQR)))]\n"
      ],
      "execution_count": null,
      "outputs": [
        {
          "output_type": "execute_result",
          "data": {
            "text/plain": [
              "5044     99999999\n",
              "5045     99999999\n",
              "5046     99999999\n",
              "5047     99999999\n",
              "5048     99999999\n",
              "           ...   \n",
              "17777    99999999\n",
              "17778    99999999\n",
              "17779    99999999\n",
              "17780    99999999\n",
              "17781    99999999\n",
              "Name: Current Loan Amount, Length: 12738, dtype: int64"
            ]
          },
          "metadata": {
            "tags": []
          },
          "execution_count": 69
        }
      ]
    },
    {
      "cell_type": "code",
      "metadata": {
        "id": "pXPCFbGJKzVb",
        "colab_type": "code",
        "colab": {}
      },
      "source": [
        "temp=np.array(data[\"Current Loan Amount\"].values.tolist())\n",
        "data[\"Current Loan Amount_temp\"] = np.where(temp > 9999998, 'NaN', temp).tolist()"
      ],
      "execution_count": null,
      "outputs": []
    },
    {
      "cell_type": "code",
      "metadata": {
        "id": "YD9yX-3sLKb-",
        "colab_type": "code",
        "colab": {
          "base_uri": "https://localhost:8080/",
          "height": 282
        },
        "outputId": "98df1962-d2d5-466b-d94a-75aa9cb681fb"
      },
      "source": [
        "temp=data[\"Current Loan Amount_temp\"][data[\"Current Loan Amount_temp\"]!='NaN'].astype(str).astype(int)\n",
        "temp.plot.hist(grid=True, bins=20, rwidth=0.9,\n",
        "                   color='#607c8e')"
      ],
      "execution_count": null,
      "outputs": [
        {
          "output_type": "execute_result",
          "data": {
            "text/plain": [
              "<matplotlib.axes._subplots.AxesSubplot at 0x7fd2ef99b748>"
            ]
          },
          "metadata": {
            "tags": []
          },
          "execution_count": 71
        },
        {
          "output_type": "display_data",
          "data": {
            "image/png": "[encoded data removed]",
            "text/plain": [
              "<Figure size 432x288 with 1 Axes>"
            ]
          },
          "metadata": {
            "tags": [],
            "needs_background": "light"
          }
        }
      ]
    },
    {
      "cell_type": "code",
      "metadata": {
        "id": "2gHzZ7PJLRmT",
        "colab_type": "code",
        "colab": {
          "base_uri": "https://localhost:8080/",
          "height": 170
        },
        "outputId": "e276f373-e454-4b48-d893-d524108411f4"
      },
      "source": [
        "temp.describe()"
      ],
      "execution_count": null,
      "outputs": [
        {
          "output_type": "execute_result",
          "data": {
            "text/plain": [
              "count    76172.000000\n",
              "mean     13933.915756\n",
              "std       8235.921922\n",
              "min        491.000000\n",
              "25%       7810.000000\n",
              "50%      12038.000000\n",
              "75%      19351.000000\n",
              "max      35875.000000\n",
              "Name: Current Loan Amount_temp, dtype: float64"
            ]
          },
          "metadata": {
            "tags": []
          },
          "execution_count": 72
        }
      ]
    },
    {
      "cell_type": "code",
      "metadata": {
        "id": "aY-3drXbM9XA",
        "colab_type": "code",
        "colab": {}
      },
      "source": [
        "#Replacing the data with 50% percentile or mean\n",
        "temp=np.array(data[\"Current Loan Amount\"].values.tolist())\n",
        "data[\"Current Loan Amount\"] = np.where(temp > 9999998,12038,temp).tolist()\n"
      ],
      "execution_count": null,
      "outputs": []
    },
    {
      "cell_type": "code",
      "metadata": {
        "id": "b11BDX6mNEAe",
        "colab_type": "code",
        "colab": {}
      },
      "source": [
        "data=data.drop(['Current Loan Amount_temp'],axis=1)"
      ],
      "execution_count": null,
      "outputs": []
    },
    {
      "cell_type": "code",
      "metadata": {
        "id": "3qOlXvXXOFv_",
        "colab_type": "code",
        "colab": {}
      },
      "source": [
        "###########Term ##############"
      ],
      "execution_count": null,
      "outputs": []
    },
    {
      "cell_type": "code",
      "metadata": {
        "id": "xtSg-2trNRhK",
        "colab_type": "code",
        "colab": {
          "base_uri": "https://localhost:8080/",
          "height": 68
        },
        "outputId": "688ad4e2-4349-4194-cb04-ae07d50f2811"
      },
      "source": [
        "status=data[\"Term\"].value_counts() \n",
        "status"
      ],
      "execution_count": null,
      "outputs": [
        {
          "output_type": "execute_result",
          "data": {
            "text/plain": [
              "Short Term    66932\n",
              "Long Term     21978\n",
              "Name: Term, dtype: int64"
            ]
          },
          "metadata": {
            "tags": []
          },
          "execution_count": 76
        }
      ]
    },
    {
      "cell_type": "code",
      "metadata": {
        "id": "bpZeQjxrN9uJ",
        "colab_type": "code",
        "colab": {
          "base_uri": "https://localhost:8080/",
          "height": 353
        },
        "outputId": "97d37655-5535-4fbd-faad-06ab82754822"
      },
      "source": [
        "plt.figure(figsize=(10,5))\n",
        "sns.barplot(status.index, status.values, alpha=0.8)\n",
        "plt.title('Loan Term distribution')\n",
        "plt.ylabel('Number of Occurrences', fontsize=12)\n",
        "plt.xlabel('Loan term', fontsize=12)\n",
        "plt.show()"
      ],
      "execution_count": null,
      "outputs": [
        {
          "output_type": "display_data",
          "data": {
            "image/png": "[encoded data removed]",
            "text/plain": [
              "<Figure size 720x360 with 1 Axes>"
            ]
          },
          "metadata": {
            "tags": [],
            "needs_background": "light"
          }
        }
      ]
    },
    {
      "cell_type": "code",
      "metadata": {
        "id": "ofu1pmKIOUvL",
        "colab_type": "code",
        "colab": {}
      },
      "source": [
        "#####Credit Score#############"
      ],
      "execution_count": null,
      "outputs": []
    },
    {
      "cell_type": "code",
      "metadata": {
        "id": "q1lNyQT0OWDJ",
        "colab_type": "code",
        "colab": {
          "base_uri": "https://localhost:8080/",
          "height": 170
        },
        "outputId": "e3fdc388-25ca-4148-d02f-b84284f8ba7a"
      },
      "source": [
        "data[\"Credit Score\"].describe()"
      ],
      "execution_count": null,
      "outputs": [
        {
          "output_type": "execute_result",
          "data": {
            "text/plain": [
              "count    67572.000000\n",
              "mean      1199.199580\n",
              "std       1680.813805\n",
              "min        585.000000\n",
              "25%        714.000000\n",
              "50%        733.000000\n",
              "75%        744.000000\n",
              "max       7510.000000\n",
              "Name: Credit Score, dtype: float64"
            ]
          },
          "metadata": {
            "tags": []
          },
          "execution_count": 79
        }
      ]
    },
    {
      "cell_type": "code",
      "metadata": {
        "id": "luHvFnIOOcns",
        "colab_type": "code",
        "colab": {
          "base_uri": "https://localhost:8080/",
          "height": 557
        },
        "outputId": "d028a01e-10d2-47e9-bf85-eb428a81023a"
      },
      "source": [
        "##Max is 7510. It should be between 0-800\n",
        "plt.boxplot(data[\"Credit Score\"])"
      ],
      "execution_count": null,
      "outputs": [
        {
          "output_type": "stream",
          "text": [
            "/usr/local/lib/python3.6/dist-packages/matplotlib/cbook/__init__.py:1239: RuntimeWarning: invalid value encountered in less_equal\n",
            "  wiskhi = x[x <= hival]\n",
            "/usr/local/lib/python3.6/dist-packages/matplotlib/cbook/__init__.py:1246: RuntimeWarning: invalid value encountered in greater_equal\n",
            "  wisklo = x[x >= loval]\n",
            "/usr/local/lib/python3.6/dist-packages/matplotlib/cbook/__init__.py:1254: RuntimeWarning: invalid value encountered in less\n",
            "  x[x < stats['whislo']],\n",
            "/usr/local/lib/python3.6/dist-packages/matplotlib/cbook/__init__.py:1255: RuntimeWarning: invalid value encountered in greater\n",
            "  x[x > stats['whishi']],\n"
          ],
          "name": "stderr"
        },
        {
          "output_type": "execute_result",
          "data": {
            "text/plain": [
              "{'boxes': [<matplotlib.lines.Line2D at 0x7fd2efe1c4e0>],\n",
              " 'caps': [<matplotlib.lines.Line2D at 0x7fd2efe1cef0>,\n",
              "  <matplotlib.lines.Line2D at 0x7fd2efe242b0>],\n",
              " 'fliers': [<matplotlib.lines.Line2D at 0x7fd2efe249b0>],\n",
              " 'means': [],\n",
              " 'medians': [<matplotlib.lines.Line2D at 0x7fd2efe24630>],\n",
              " 'whiskers': [<matplotlib.lines.Line2D at 0x7fd2efe1c7f0>,\n",
              "  <matplotlib.lines.Line2D at 0x7fd2efe1cb70>]}"
            ]
          },
          "metadata": {
            "tags": []
          },
          "execution_count": 80
        },
        {
          "output_type": "display_data",
          "data": {
            "image/png": "[encoded data removed]",
            "text/plain": [
              "<Figure size 432x288 with 1 Axes>"
            ]
          },
          "metadata": {
            "tags": [],
            "needs_background": "light"
          }
        }
      ]
    },
    {
      "cell_type": "code",
      "metadata": {
        "id": "uMRWBxYeO8ry",
        "colab_type": "code",
        "colab": {
          "base_uri": "https://localhost:8080/",
          "height": 34
        },
        "outputId": "9f821b6e-d730-4e20-fb1f-4f445a6842fd"
      },
      "source": [
        "data[\"Credit Score\"].isnull().unique()"
      ],
      "execution_count": null,
      "outputs": [
        {
          "output_type": "execute_result",
          "data": {
            "text/plain": [
              "array([False,  True])"
            ]
          },
          "metadata": {
            "tags": []
          },
          "execution_count": 81
        }
      ]
    },
    {
      "cell_type": "code",
      "metadata": {
        "id": "sAWAUZdZPRgl",
        "colab_type": "code",
        "colab": {}
      },
      "source": [
        "#Shows there are missing values in the data"
      ],
      "execution_count": null,
      "outputs": []
    },
    {
      "cell_type": "code",
      "metadata": {
        "id": "5yVyAJIZP0Jv",
        "colab_type": "code",
        "colab": {}
      },
      "source": [
        "#Now lets do treatment of the data at hand. Let us firstly divide the values greater than 800 by 10\n",
        "data[\"Credit Score\"]=np.where(data[\"Credit Score\"]>800, data[\"Credit Score\"]/10, data[\"Credit Score\"])"
      ],
      "execution_count": null,
      "outputs": []
    },
    {
      "cell_type": "code",
      "metadata": {
        "id": "rqqpA80gP2S8",
        "colab_type": "code",
        "colab": {}
      },
      "source": [
        "#Now lets replace the missing values with median \n",
        "median_score=statistics.median(data[\"Credit Score\"])\n",
        "data[\"Credit Score_1\"]=data[\"Credit Score\"]\n",
        "data[\"Credit Score_1\"].fillna(median_score, inplace = True) \n"
      ],
      "execution_count": null,
      "outputs": []
    },
    {
      "cell_type": "code",
      "metadata": {
        "id": "dvOxHPzMQKuP",
        "colab_type": "code",
        "colab": {
          "base_uri": "https://localhost:8080/",
          "height": 297
        },
        "outputId": "9b714f44-199a-424c-92a8-7e68b5381b8d"
      },
      "source": [
        "sns.distplot(data[\"Credit Score_1\"])\n",
        "#As we can see this data is skewed so when we replace it with median it is giving us problems. \n",
        "#Replacing with 75th percentile and taking log we get a better distribution"
      ],
      "execution_count": null,
      "outputs": [
        {
          "output_type": "execute_result",
          "data": {
            "text/plain": [
              "<matplotlib.axes._subplots.AxesSubplot at 0x7fd2efe38358>"
            ]
          },
          "metadata": {
            "tags": []
          },
          "execution_count": 85
        },
        {
          "output_type": "display_data",
          "data": {
            "image/png": "[encoded data removed]",
            "text/plain": [
              "<Figure size 432x288 with 1 Axes>"
            ]
          },
          "metadata": {
            "tags": [],
            "needs_background": "light"
          }
        }
      ]
    },
    {
      "cell_type": "code",
      "metadata": {
        "id": "WNu89R5wQrtM",
        "colab_type": "code",
        "colab": {
          "base_uri": "https://localhost:8080/",
          "height": 296
        },
        "outputId": "a795330b-64fa-4c67-9ed7-4adbfd95c4dd"
      },
      "source": [
        "\n",
        "data[\"Credit Score\"].fillna(741, inplace = True) \n",
        "sns.distplot(data[\"Credit Score\"])\n",
        "sns.distplot(np.log(data[\"Credit Score\"]))"
      ],
      "execution_count": null,
      "outputs": [
        {
          "output_type": "execute_result",
          "data": {
            "text/plain": [
              "<matplotlib.axes._subplots.AxesSubplot at 0x7fd2efd667b8>"
            ]
          },
          "metadata": {
            "tags": []
          },
          "execution_count": 86
        },
        {
          "output_type": "display_data",
          "data": {
            "image/png": "[encoded data removed]",
            "text/plain": [
              "<Figure size 432x288 with 1 Axes>"
            ]
          },
          "metadata": {
            "tags": [],
            "needs_background": "light"
          }
        }
      ]
    },
    {
      "cell_type": "code",
      "metadata": {
        "id": "zpyNkQ80UfyG",
        "colab_type": "code",
        "colab": {}
      },
      "source": [
        "########Years in current job #######"
      ],
      "execution_count": null,
      "outputs": []
    },
    {
      "cell_type": "code",
      "metadata": {
        "id": "iHRq_wq0Vo9g",
        "colab_type": "code",
        "colab": {
          "base_uri": "https://localhost:8080/",
          "height": 34
        },
        "outputId": "ec771c45-a993-4f36-ea4c-4e8e88054145"
      },
      "source": [
        "data['Home Ownership'].unique()\n",
        "#As we can see it has Home Mortgage and haveMortgage as 2 different classes. Lets fix that\n",
        "data['Home Ownership']=data['Home Ownership'].str.replace('HaveMortgage', 'Home Mortgage', regex=True)\n",
        "data['Home Ownership'].unique()"
      ],
      "execution_count": null,
      "outputs": [
        {
          "output_type": "execute_result",
          "data": {
            "text/plain": [
              "array(['Rent', 'Home Mortgage', 'Own Home'], dtype=object)"
            ]
          },
          "metadata": {
            "tags": []
          },
          "execution_count": 88
        }
      ]
    },
    {
      "cell_type": "code",
      "metadata": {
        "id": "ljKEAprZWA6H",
        "colab_type": "code",
        "colab": {}
      },
      "source": [
        "##################Annual Income######################"
      ],
      "execution_count": null,
      "outputs": []
    },
    {
      "cell_type": "code",
      "metadata": {
        "id": "V-ny3t-NWERQ",
        "colab_type": "code",
        "colab": {
          "base_uri": "https://localhost:8080/",
          "height": 170
        },
        "outputId": "9a43f21f-5124-42c0-f049-5bb1754655ff"
      },
      "source": [
        "data['Annual Income'].describe()"
      ],
      "execution_count": null,
      "outputs": [
        {
          "output_type": "execute_result",
          "data": {
            "text/plain": [
              "count    6.757200e+04\n",
              "mean     7.234575e+04\n",
              "std      5.836101e+04\n",
              "min      4.033000e+03\n",
              "25%      4.458600e+04\n",
              "50%      6.149400e+04\n",
              "75%      8.675025e+04\n",
              "max      8.713547e+06\n",
              "Name: Annual Income, dtype: float64"
            ]
          },
          "metadata": {
            "tags": []
          },
          "execution_count": 90
        }
      ]
    },
    {
      "cell_type": "code",
      "metadata": {
        "id": "Miqv3aC0WzKP",
        "colab_type": "code",
        "colab": {
          "base_uri": "https://localhost:8080/",
          "height": 136
        },
        "outputId": "ad9b8abe-4647-46a9-f216-da5ee8314c54"
      },
      "source": [
        "##Lets look at the quantiles of this columns\n",
        "data['Annual Income'].quantile([.2,0.75,0.90,.95,0.99,.999])\n"
      ],
      "execution_count": null,
      "outputs": [
        {
          "output_type": "execute_result",
          "data": {
            "text/plain": [
              "0.200     40764.00\n",
              "0.750     86750.25\n",
              "0.900    119916.00\n",
              "0.950    147645.00\n",
              "0.990    239286.96\n",
              "0.999    491575.77\n",
              "Name: Annual Income, dtype: float64"
            ]
          },
          "metadata": {
            "tags": []
          },
          "execution_count": 91
        }
      ]
    },
    {
      "cell_type": "code",
      "metadata": {
        "id": "rTveS1QKZlDN",
        "colab_type": "code",
        "colab": {}
      },
      "source": [
        "#As we can see they lie in the 99th percentile of the data.Lets replace them\n",
        "# Capping any values greater than 99% to 99th value\n",
        "data.loc[data['Annual Income'] > 239287, 'Annual Income'] = 239287"
      ],
      "execution_count": null,
      "outputs": []
    },
    {
      "cell_type": "code",
      "metadata": {
        "id": "g0HZwa6jafKE",
        "colab_type": "code",
        "colab": {
          "base_uri": "https://localhost:8080/",
          "height": 34
        },
        "outputId": "337ef3a9-0210-45dd-b0b2-e2b11f5794db"
      },
      "source": [
        "data['Annual Income'].isna().sum()\n",
        "#So we have about 21000 null values "
      ],
      "execution_count": null,
      "outputs": [
        {
          "output_type": "execute_result",
          "data": {
            "text/plain": [
              "21338"
            ]
          },
          "metadata": {
            "tags": []
          },
          "execution_count": 93
        }
      ]
    },
    {
      "cell_type": "code",
      "metadata": {
        "id": "byiXqogEa7bl",
        "colab_type": "code",
        "colab": {}
      },
      "source": [
        "###############Loan Purpose ###############"
      ],
      "execution_count": null,
      "outputs": []
    },
    {
      "cell_type": "code",
      "metadata": {
        "id": "GI3eqgcKa8K0",
        "colab_type": "code",
        "colab": {
          "base_uri": "https://localhost:8080/",
          "height": 306
        },
        "outputId": "1e7882b2-6a50-400b-8eb8-853b32659bc6"
      },
      "source": [
        "data['Purpose'].value_counts()"
      ],
      "execution_count": null,
      "outputs": [
        {
          "output_type": "execute_result",
          "data": {
            "text/plain": [
              "Debt Consolidation      70447\n",
              "Home Improvements        5206\n",
              "other                    4917\n",
              "Other                    2850\n",
              "Business Loan            1328\n",
              "Buy a Car                1196\n",
              "Medical Bills             955\n",
              "Buy House                 559\n",
              "Take a Trip               454\n",
              "major_purchase            344\n",
              "small_business            248\n",
              "moving                    124\n",
              "wedding                    99\n",
              "Educational Expenses       92\n",
              "vacation                   82\n",
              "renewable_energy            9\n",
              "Name: Purpose, dtype: int64"
            ]
          },
          "metadata": {
            "tags": []
          },
          "execution_count": 95
        }
      ]
    },
    {
      "cell_type": "code",
      "metadata": {
        "id": "xdf-Sh8bbJUY",
        "colab_type": "code",
        "colab": {}
      },
      "source": [
        "#So other and Other mean the same thing. Lets make it the same\n",
        "data['Purpose']=data['Purpose'].str.replace('Other', 'other', regex=True)"
      ],
      "execution_count": null,
      "outputs": []
    },
    {
      "cell_type": "code",
      "metadata": {
        "id": "QxucXEQXbPNp",
        "colab_type": "code",
        "colab": {
          "base_uri": "https://localhost:8080/",
          "height": 102
        },
        "outputId": "1f91eb70-3a22-46dd-c48e-d39c6a609782"
      },
      "source": [
        "data['Monthly Debt'].describe()\n",
        "##So this is not numeric column. Lets explore"
      ],
      "execution_count": null,
      "outputs": [
        {
          "output_type": "execute_result",
          "data": {
            "text/plain": [
              "count     88910\n",
              "unique    70066\n",
              "top           0\n",
              "freq         69\n",
              "Name: Monthly Debt, dtype: object"
            ]
          },
          "metadata": {
            "tags": []
          },
          "execution_count": 97
        }
      ]
    },
    {
      "cell_type": "code",
      "metadata": {
        "id": "5co3NyVCbebM",
        "colab_type": "code",
        "colab": {
          "base_uri": "https://localhost:8080/",
          "height": 221
        },
        "outputId": "52009c52-272d-4ca9-d3f1-cd27e3e2c716"
      },
      "source": [
        "data['Monthly Debt'] "
      ],
      "execution_count": null,
      "outputs": [
        {
          "output_type": "execute_result",
          "data": {
            "text/plain": [
              "0         777.39\n",
              "1         892.09\n",
              "2        1244.02\n",
              "3         990.94\n",
              "4         503.71\n",
              "          ...   \n",
              "88905     567.62\n",
              "88906    2508.63\n",
              "88907      818.2\n",
              "88908     360.17\n",
              "88909     749.13\n",
              "Name: Monthly Debt, Length: 88910, dtype: object"
            ]
          },
          "metadata": {
            "tags": []
          },
          "execution_count": 98
        }
      ]
    },
    {
      "cell_type": "code",
      "metadata": {
        "id": "Hrj6eiEsb531",
        "colab_type": "code",
        "colab": {
          "base_uri": "https://localhost:8080/",
          "height": 452
        },
        "outputId": "bc2ce142-a8e0-4d1e-fa3f-c3c8c3effe1e"
      },
      "source": [
        "# But this should be a numeric column. So lets convert it to floa\n",
        "pd.to_numeric(data['Monthly Debt'])"
      ],
      "execution_count": null,
      "outputs": [
        {
          "output_type": "error",
          "ename": "ValueError",
          "evalue": "ignored",
          "traceback": [
            "\u001b[0;31m---------------------------------------------------------------------------\u001b[0m",
            "\u001b[0;31mValueError\u001b[0m                                Traceback (most recent call last)",
            "\u001b[0;32mpandas/_libs/lib.pyx\u001b[0m in \u001b[0;36mpandas._libs.lib.maybe_convert_numeric\u001b[0;34m()\u001b[0m\n",
            "\u001b[0;31mValueError\u001b[0m: Unable to parse string \"$1051.41\"",
            "\nDuring handling of the above exception, another exception occurred:\n",
            "\u001b[0;31mValueError\u001b[0m                                Traceback (most recent call last)",
            "\u001b[0;32m<ipython-input-99-0948119c3cb1>\u001b[0m in \u001b[0;36m<module>\u001b[0;34m()\u001b[0m\n\u001b[1;32m      1\u001b[0m \u001b[0;31m# But this should be a numeric column. So lets convert it to floa\u001b[0m\u001b[0;34m\u001b[0m\u001b[0;34m\u001b[0m\u001b[0;34m\u001b[0m\u001b[0m\n\u001b[0;32m----> 2\u001b[0;31m \u001b[0mpd\u001b[0m\u001b[0;34m.\u001b[0m\u001b[0mto_numeric\u001b[0m\u001b[0;34m(\u001b[0m\u001b[0mdata\u001b[0m\u001b[0;34m[\u001b[0m\u001b[0;34m'Monthly Debt'\u001b[0m\u001b[0;34m]\u001b[0m\u001b[0;34m)\u001b[0m\u001b[0;34m\u001b[0m\u001b[0;34m\u001b[0m\u001b[0m\n\u001b[0m",
            "\u001b[0;32m/usr/local/lib/python3.6/dist-packages/pandas/core/tools/numeric.py\u001b[0m in \u001b[0;36mto_numeric\u001b[0;34m(arg, errors, downcast)\u001b[0m\n\u001b[1;32m    148\u001b[0m         \u001b[0;32mtry\u001b[0m\u001b[0;34m:\u001b[0m\u001b[0;34m\u001b[0m\u001b[0;34m\u001b[0m\u001b[0m\n\u001b[1;32m    149\u001b[0m             values = lib.maybe_convert_numeric(\n\u001b[0;32m--> 150\u001b[0;31m                 \u001b[0mvalues\u001b[0m\u001b[0;34m,\u001b[0m \u001b[0mset\u001b[0m\u001b[0;34m(\u001b[0m\u001b[0;34m)\u001b[0m\u001b[0;34m,\u001b[0m \u001b[0mcoerce_numeric\u001b[0m\u001b[0;34m=\u001b[0m\u001b[0mcoerce_numeric\u001b[0m\u001b[0;34m\u001b[0m\u001b[0;34m\u001b[0m\u001b[0m\n\u001b[0m\u001b[1;32m    151\u001b[0m             )\n\u001b[1;32m    152\u001b[0m         \u001b[0;32mexcept\u001b[0m \u001b[0;34m(\u001b[0m\u001b[0mValueError\u001b[0m\u001b[0;34m,\u001b[0m \u001b[0mTypeError\u001b[0m\u001b[0;34m)\u001b[0m\u001b[0;34m:\u001b[0m\u001b[0;34m\u001b[0m\u001b[0;34m\u001b[0m\u001b[0m\n",
            "\u001b[0;32mpandas/_libs/lib.pyx\u001b[0m in \u001b[0;36mpandas._libs.lib.maybe_convert_numeric\u001b[0;34m()\u001b[0m\n",
            "\u001b[0;31mValueError\u001b[0m: Unable to parse string \"$1051.41\" at position 10"
          ]
        }
      ]
    },
    {
      "cell_type": "code",
      "metadata": {
        "id": "so48As-WdB8Z",
        "colab_type": "code",
        "colab": {}
      },
      "source": [
        "#As we can see there is a $ symbol present. Lets replace it \n",
        "data['Monthly Debt']=data['Monthly Debt'].str.replace('$', '', regex=True)\n",
        "data['Monthly Debt']=pd.to_numeric(data['Monthly Debt'] )"
      ],
      "execution_count": null,
      "outputs": []
    },
    {
      "cell_type": "code",
      "metadata": {
        "id": "QaAQ2deddmwL",
        "colab_type": "code",
        "colab": {
          "base_uri": "https://localhost:8080/",
          "height": 296
        },
        "outputId": "8707bd64-6575-467a-9893-6bf47665265a"
      },
      "source": [
        "sns.distplot(data[\"Monthly Debt\"])"
      ],
      "execution_count": null,
      "outputs": [
        {
          "output_type": "execute_result",
          "data": {
            "text/plain": [
              "<matplotlib.axes._subplots.AxesSubplot at 0x7fd2ef9140f0>"
            ]
          },
          "metadata": {
            "tags": []
          },
          "execution_count": 107
        },
        {
          "output_type": "display_data",
          "data": {
            "image/png": "[encoded data removed]",
            "text/plain": [
              "<Figure size 432x288 with 1 Axes>"
            ]
          },
          "metadata": {
            "tags": [],
            "needs_background": "light"
          }
        }
      ]
    },
    {
      "cell_type": "code",
      "metadata": {
        "id": "TUaYztSzjkgl",
        "colab_type": "code",
        "colab": {
          "base_uri": "https://localhost:8080/",
          "height": 170
        },
        "outputId": "7d4d8ac7-c70a-428b-985d-e1196d4dcbd4"
      },
      "source": [
        "#We can see that there are outliers in this data because of the plot\n",
        "#Lets explore\n",
        "data['Monthly Debt'].describe()\n",
        "#The max value is too high here\n"
      ],
      "execution_count": null,
      "outputs": [
        {
          "output_type": "execute_result",
          "data": {
            "text/plain": [
              "count    88910.000000\n",
              "mean       963.102059\n",
              "std        637.524064\n",
              "min          0.000000\n",
              "25%        532.220000\n",
              "50%        843.925000\n",
              "75%       1250.527500\n",
              "max      22939.120000\n",
              "Name: Monthly Debt, dtype: float64"
            ]
          },
          "metadata": {
            "tags": []
          },
          "execution_count": 108
        }
      ]
    },
    {
      "cell_type": "code",
      "metadata": {
        "id": "pqkbewlVjpY9",
        "colab_type": "code",
        "colab": {
          "base_uri": "https://localhost:8080/",
          "height": 136
        },
        "outputId": "7b807975-7cea-4ae1-af18-274a9ab32469"
      },
      "source": [
        "data['Monthly Debt'].quantile([.2,0.75,0.90,.95,0.99,.999])\n",
        "#Problem is with 99th percentile. lets dig deeper"
      ],
      "execution_count": null,
      "outputs": [
        {
          "output_type": "execute_result",
          "data": {
            "text/plain": [
              "0.200     463.75000\n",
              "0.750    1250.52750\n",
              "0.900    1743.08300\n",
              "0.950    2115.51100\n",
              "0.990    3087.11100\n",
              "0.999    4926.37475\n",
              "Name: Monthly Debt, dtype: float64"
            ]
          },
          "metadata": {
            "tags": []
          },
          "execution_count": 109
        }
      ]
    },
    {
      "cell_type": "code",
      "metadata": {
        "id": "pcrsFHwqj61p",
        "colab_type": "code",
        "colab": {
          "base_uri": "https://localhost:8080/",
          "height": 68
        },
        "outputId": "c33d2a8c-9cb3-4a86-c358-dae28d3ba8df"
      },
      "source": [
        "data['Monthly Debt'].quantile([0.9995,.9999])\n",
        "#So problem again is wit 99th percentile"
      ],
      "execution_count": null,
      "outputs": [
        {
          "output_type": "execute_result",
          "data": {
            "text/plain": [
              "0.9995    5482.111455\n",
              "0.9999    7774.610660\n",
              "Name: Monthly Debt, dtype: float64"
            ]
          },
          "metadata": {
            "tags": []
          },
          "execution_count": 110
        }
      ]
    },
    {
      "cell_type": "code",
      "metadata": {
        "id": "ot-yg3ZNkiml",
        "colab_type": "code",
        "colab": {
          "base_uri": "https://localhost:8080/",
          "height": 68
        },
        "outputId": "feb0e66d-c942-4d31-b481-1cc51a490ac4"
      },
      "source": [
        "data['Monthly Debt'].quantile([0.9997,.99999])\n",
        "#0.99970     5978.574911\n",
        "#0.99999    13262.762330"
      ],
      "execution_count": null,
      "outputs": [
        {
          "output_type": "execute_result",
          "data": {
            "text/plain": [
              "0.99970     5978.574911\n",
              "0.99999    13262.762330\n",
              "Name: Monthly Debt, dtype: float64"
            ]
          },
          "metadata": {
            "tags": []
          },
          "execution_count": 111
        }
      ]
    },
    {
      "cell_type": "code",
      "metadata": {
        "id": "yUxM-MPEkv15",
        "colab_type": "code",
        "colab": {
          "base_uri": "https://localhost:8080/",
          "height": 68
        },
        "outputId": "8923943c-573a-4d6d-b71e-03a3b3a969e8"
      },
      "source": [
        "data['Monthly Debt'].quantile([0.999,1])\n",
        "#0.999     4926.37475\n",
        "#1.000    22939.12000\n",
        "#Need to replace this"
      ],
      "execution_count": null,
      "outputs": [
        {
          "output_type": "execute_result",
          "data": {
            "text/plain": [
              "0.999     4926.37475\n",
              "1.000    22939.12000\n",
              "Name: Monthly Debt, dtype: float64"
            ]
          },
          "metadata": {
            "tags": []
          },
          "execution_count": 112
        }
      ]
    },
    {
      "cell_type": "code",
      "metadata": {
        "id": "kbIWglI9k_q0",
        "colab_type": "code",
        "colab": {}
      },
      "source": [
        "data.loc[data['Monthly Debt'] > 4926, 'Monthly Debt'] = 4926"
      ],
      "execution_count": null,
      "outputs": []
    },
    {
      "cell_type": "code",
      "metadata": {
        "id": "23Sz7B-ElJ3B",
        "colab_type": "code",
        "colab": {
          "base_uri": "https://localhost:8080/",
          "height": 296
        },
        "outputId": "dba110bc-8f99-49f7-df34-54bd6d3e7edb"
      },
      "source": [
        "sns.distplot(data[\"Monthly Debt\"])\n",
        "#Now we get the right distribution\n"
      ],
      "execution_count": null,
      "outputs": [
        {
          "output_type": "execute_result",
          "data": {
            "text/plain": [
              "<matplotlib.axes._subplots.AxesSubplot at 0x7fd2efeaf2b0>"
            ]
          },
          "metadata": {
            "tags": []
          },
          "execution_count": 114
        },
        {
          "output_type": "display_data",
          "data": {
            "image/png": "[encoded data removed]",
            "text/plain": [
              "<Figure size 432x288 with 1 Axes>"
            ]
          },
          "metadata": {
            "tags": [],
            "needs_background": "light"
          }
        }
      ]
    },
    {
      "cell_type": "code",
      "metadata": {
        "id": "DMIcf-XalVgK",
        "colab_type": "code",
        "colab": {}
      },
      "source": [
        "####################Years of credit history #################"
      ],
      "execution_count": null,
      "outputs": []
    },
    {
      "cell_type": "code",
      "metadata": {
        "id": "N72Z3W8RlX6h",
        "colab_type": "code",
        "colab": {
          "base_uri": "https://localhost:8080/",
          "height": 221
        },
        "outputId": "cdbec79f-cb06-4eed-c7ee-893a7e05d94f"
      },
      "source": [
        "data['Years of Credit History'].value_counts()"
      ],
      "execution_count": null,
      "outputs": [
        {
          "output_type": "execute_result",
          "data": {
            "text/plain": [
              "16.0    1234\n",
              "15.0    1159\n",
              "17.0    1091\n",
              "16.5    1045\n",
              "14.0    1031\n",
              "        ... \n",
              "56.1       1\n",
              "54.2       1\n",
              "49.8       1\n",
              "49.7       1\n",
              "3.6        1\n",
              "Name: Years of Credit History, Length: 508, dtype: int64"
            ]
          },
          "metadata": {
            "tags": []
          },
          "execution_count": 117
        }
      ]
    },
    {
      "cell_type": "code",
      "metadata": {
        "id": "RJEPVR2Kldha",
        "colab_type": "code",
        "colab": {
          "base_uri": "https://localhost:8080/",
          "height": 296
        },
        "outputId": "3ef22f4b-f368-465e-fa1e-4eee0b6a8a01"
      },
      "source": [
        "sns.distplot(data[\"Years of Credit History\"])\n",
        "#Over all looks pretty clean! no need of doing anything"
      ],
      "execution_count": null,
      "outputs": [
        {
          "output_type": "execute_result",
          "data": {
            "text/plain": [
              "<matplotlib.axes._subplots.AxesSubplot at 0x7fd2ef9cc438>"
            ]
          },
          "metadata": {
            "tags": []
          },
          "execution_count": 118
        },
        {
          "output_type": "display_data",
          "data": {
            "image/png": "[encoded data removed]",
            "text/plain": [
              "<Figure size 432x288 with 1 Axes>"
            ]
          },
          "metadata": {
            "tags": [],
            "needs_background": "light"
          }
        }
      ]
    },
    {
      "cell_type": "code",
      "metadata": {
        "id": "v_5Rh3a5l3n0",
        "colab_type": "code",
        "colab": {}
      },
      "source": [
        "#############Months since last delinquent####################"
      ],
      "execution_count": null,
      "outputs": []
    },
    {
      "cell_type": "code",
      "metadata": {
        "id": "6jQ12xUal5Iw",
        "colab_type": "code",
        "colab": {
          "base_uri": "https://localhost:8080/",
          "height": 34
        },
        "outputId": "cfdf47ed-ee56-4d13-ee0a-f50af0d152fb"
      },
      "source": [
        "#Lets check if there are any NA's\n",
        "data['Months since last delinquent'].isna().sum()\n",
        "#We have nearly 48506 NA;s. We will try to handle them at last "
      ],
      "execution_count": null,
      "outputs": [
        {
          "output_type": "execute_result",
          "data": {
            "text/plain": [
              "48506"
            ]
          },
          "metadata": {
            "tags": []
          },
          "execution_count": 120
        }
      ]
    },
    {
      "cell_type": "code",
      "metadata": {
        "id": "HAn8vKtHmDQ7",
        "colab_type": "code",
        "colab": {
          "base_uri": "https://localhost:8080/",
          "height": 170
        },
        "outputId": "2c941f3b-6a5f-4ba7-e8e5-aa5ea41c12ba"
      },
      "source": [
        "data['Number of Open Accounts'].describe()\n",
        "#The max number seems odd. Lets investigate"
      ],
      "execution_count": null,
      "outputs": [
        {
          "output_type": "execute_result",
          "data": {
            "text/plain": [
              "count    88910.000000\n",
              "mean        11.110348\n",
              "std          4.978461\n",
              "min          0.000000\n",
              "25%          8.000000\n",
              "50%         10.000000\n",
              "75%         14.000000\n",
              "max         76.000000\n",
              "Name: Number of Open Accounts, dtype: float64"
            ]
          },
          "metadata": {
            "tags": []
          },
          "execution_count": 121
        }
      ]
    },
    {
      "cell_type": "code",
      "metadata": {
        "id": "SN56S5AzmPX9",
        "colab_type": "code",
        "colab": {
          "base_uri": "https://localhost:8080/",
          "height": 85
        },
        "outputId": "1f480ad1-969c-404c-babd-f18d7124eb34"
      },
      "source": [
        "data['Number of Open Accounts'].quantile([0.75,0.999,1])\n",
        "#Ok so replacing anything greater than 99th percentile with 99th percentile values"
      ],
      "execution_count": null,
      "outputs": [
        {
          "output_type": "execute_result",
          "data": {
            "text/plain": [
              "0.750    14.0\n",
              "0.999    36.0\n",
              "1.000    76.0\n",
              "Name: Number of Open Accounts, dtype: float64"
            ]
          },
          "metadata": {
            "tags": []
          },
          "execution_count": 122
        }
      ]
    },
    {
      "cell_type": "code",
      "metadata": {
        "id": "WBQqbI6Bmsfl",
        "colab_type": "code",
        "colab": {}
      },
      "source": [
        "data.loc[data['Number of Open Accounts'] > 36, 'Number of Open Accounts'] = 36"
      ],
      "execution_count": null,
      "outputs": []
    },
    {
      "cell_type": "code",
      "metadata": {
        "id": "b8dXv5Uwm1ZJ",
        "colab_type": "code",
        "colab": {
          "base_uri": "https://localhost:8080/",
          "height": 296
        },
        "outputId": "cf2bb53e-66a4-4ae4-daaf-15a55aaf31a7"
      },
      "source": [
        "sns.distplot(data['Number of Open Accounts'])\n",
        "#Looks good now"
      ],
      "execution_count": null,
      "outputs": [
        {
          "output_type": "execute_result",
          "data": {
            "text/plain": [
              "<matplotlib.axes._subplots.AxesSubplot at 0x7fd2ef8be470>"
            ]
          },
          "metadata": {
            "tags": []
          },
          "execution_count": 124
        },
        {
          "output_type": "display_data",
          "data": {
            "image/png": "[encoded data removed]",
            "text/plain": [
              "<Figure size 432x288 with 1 Axes>"
            ]
          },
          "metadata": {
            "tags": [],
            "needs_background": "light"
          }
        }
      ]
    },
    {
      "cell_type": "code",
      "metadata": {
        "id": "oTpL-gIInnUq",
        "colab_type": "code",
        "colab": {}
      },
      "source": [
        "#######################Number of Credit problems##############"
      ],
      "execution_count": null,
      "outputs": []
    },
    {
      "cell_type": "code",
      "metadata": {
        "id": "o5nBfx0znqmZ",
        "colab_type": "code",
        "colab": {
          "base_uri": "https://localhost:8080/",
          "height": 170
        },
        "outputId": "77c9b1a0-6dd7-4b45-a9f5-3f384b85c6f8"
      },
      "source": [
        "data['Number of Credit Problems'].describe() \n",
        "#Max looks a bit higher. Lets see"
      ],
      "execution_count": null,
      "outputs": [
        {
          "output_type": "execute_result",
          "data": {
            "text/plain": [
              "count    88910.000000\n",
              "mean         0.160477\n",
              "std          0.473746\n",
              "min          0.000000\n",
              "25%          0.000000\n",
              "50%          0.000000\n",
              "75%          0.000000\n",
              "max         15.000000\n",
              "Name: Number of Credit Problems, dtype: float64"
            ]
          },
          "metadata": {
            "tags": []
          },
          "execution_count": 125
        }
      ]
    },
    {
      "cell_type": "code",
      "metadata": {
        "id": "TfbLeUl4n6_S",
        "colab_type": "code",
        "colab": {
          "base_uri": "https://localhost:8080/",
          "height": 298
        },
        "outputId": "31509cf2-2844-4958-bbd7-2b162b35cf7b"
      },
      "source": [
        "sns.distplot(data['Number of Credit Problems'])\n",
        "#Okay lets look at value _counts"
      ],
      "execution_count": null,
      "outputs": [
        {
          "output_type": "execute_result",
          "data": {
            "text/plain": [
              "<matplotlib.axes._subplots.AxesSubplot at 0x7fd2ef765048>"
            ]
          },
          "metadata": {
            "tags": []
          },
          "execution_count": 126
        },
        {
          "output_type": "display_data",
          "data": {
            "image/png": "[encoded data removed]",
            "text/plain": [
              "<Figure size 432x288 with 1 Axes>"
            ]
          },
          "metadata": {
            "tags": [],
            "needs_background": "light"
          }
        }
      ]
    },
    {
      "cell_type": "code",
      "metadata": {
        "id": "U8UsVoqHn9Bi",
        "colab_type": "code",
        "colab": {
          "base_uri": "https://localhost:8080/",
          "height": 272
        },
        "outputId": "4e9bd6c3-83c4-4ce3-e2fa-bf90923e2ddb"
      },
      "source": [
        "data['Number of Credit Problems'].value_counts()\n",
        "#Okay looks good\n"
      ],
      "execution_count": null,
      "outputs": [
        {
          "output_type": "execute_result",
          "data": {
            "text/plain": [
              "0     77057\n",
              "1     10271\n",
              "2      1092\n",
              "3       311\n",
              "4       101\n",
              "5        46\n",
              "6        14\n",
              "7         6\n",
              "9         4\n",
              "10        3\n",
              "8         2\n",
              "15        1\n",
              "12        1\n",
              "11        1\n",
              "Name: Number of Credit Problems, dtype: int64"
            ]
          },
          "metadata": {
            "tags": []
          },
          "execution_count": 127
        }
      ]
    },
    {
      "cell_type": "code",
      "metadata": {
        "id": "iCBFp-PmoTA5",
        "colab_type": "code",
        "colab": {}
      },
      "source": [
        "##################Current Credit Balance###########"
      ],
      "execution_count": null,
      "outputs": []
    },
    {
      "cell_type": "code",
      "metadata": {
        "id": "kVJb3iOepb1s",
        "colab_type": "code",
        "colab": {
          "base_uri": "https://localhost:8080/",
          "height": 170
        },
        "outputId": "87be8ab2-9c1a-4dc0-b443-fa211f256a66"
      },
      "source": [
        "data['Current Credit Balance'].describe()"
      ],
      "execution_count": null,
      "outputs": [
        {
          "output_type": "execute_result",
          "data": {
            "text/plain": [
              "count    8.891000e+04\n",
              "mean     1.543593e+04\n",
              "std      1.965873e+04\n",
              "min      0.000000e+00\n",
              "25%      5.949000e+03\n",
              "50%      1.103900e+04\n",
              "75%      1.930100e+04\n",
              "max      1.730472e+06\n",
              "Name: Current Credit Balance, dtype: float64"
            ]
          },
          "metadata": {
            "tags": []
          },
          "execution_count": 128
        }
      ]
    },
    {
      "cell_type": "code",
      "metadata": {
        "id": "_T6b88Vtprzy",
        "colab_type": "code",
        "colab": {
          "base_uri": "https://localhost:8080/",
          "height": 307
        },
        "outputId": "97c00ec7-bfd8-4c2b-e97c-20cb7e954564"
      },
      "source": [
        "sns.distplot(data['Current Credit Balance'])\n",
        "#It seems there are outliers in this data. Lets investigate"
      ],
      "execution_count": null,
      "outputs": [
        {
          "output_type": "execute_result",
          "data": {
            "text/plain": [
              "<matplotlib.axes._subplots.AxesSubplot at 0x7fd2ef732908>"
            ]
          },
          "metadata": {
            "tags": []
          },
          "execution_count": 129
        },
        {
          "output_type": "display_data",
          "data": {
            "image/png": "[encoded data removed]",
            "text/plain": [
              "<Figure size 432x288 with 1 Axes>"
            ]
          },
          "metadata": {
            "tags": [],
            "needs_background": "light"
          }
        }
      ]
    },
    {
      "cell_type": "code",
      "metadata": {
        "id": "L3XnYVJIqBdK",
        "colab_type": "code",
        "colab": {
          "base_uri": "https://localhost:8080/",
          "height": 102
        },
        "outputId": "2fc630ba-a90d-4827-c5c7-4dbd1193c356"
      },
      "source": [
        "data['Current Credit Balance'].quantile([0.75,0.95,0.999,1])"
      ],
      "execution_count": null,
      "outputs": [
        {
          "output_type": "execute_result",
          "data": {
            "text/plain": [
              "0.750      19301.000\n",
              "0.950      39933.300\n",
              "0.999     227670.033\n",
              "1.000    1730472.000\n",
              "Name: Current Credit Balance, dtype: float64"
            ]
          },
          "metadata": {
            "tags": []
          },
          "execution_count": 130
        }
      ]
    },
    {
      "cell_type": "code",
      "metadata": {
        "id": "c5z_SLNlqRAm",
        "colab_type": "code",
        "colab": {
          "base_uri": "https://localhost:8080/",
          "height": 136
        },
        "outputId": "21e81a06-1a8b-4bec-8337-4bfeabdc0d64"
      },
      "source": [
        "#lets dig deeper\n",
        "data['Current Credit Balance'].quantile([0.95,0.96,0.97,0.98,0.99,1])"
      ],
      "execution_count": null,
      "outputs": [
        {
          "output_type": "execute_result",
          "data": {
            "text/plain": [
              "0.95      39933.30\n",
              "0.96      43501.20\n",
              "0.97      48507.73\n",
              "0.98      57938.12\n",
              "0.99      81007.19\n",
              "1.00    1730472.00\n",
              "Name: Current Credit Balance, dtype: float64"
            ]
          },
          "metadata": {
            "tags": []
          },
          "execution_count": 131
        }
      ]
    },
    {
      "cell_type": "code",
      "metadata": {
        "id": "y7FCul8nqjYZ",
        "colab_type": "code",
        "colab": {}
      },
      "source": [
        "#So lets replace it with 95th percentile\n",
        "\n",
        "data['Current Credit Balance'].quantile([0.55,0.76,0.87,0.98,0.99,1])\n",
        "\n",
        "data.loc[data['Current Credit Balance'] > 81007, 'Current Credit Balance'] = 81007\n"
      ],
      "execution_count": null,
      "outputs": []
    },
    {
      "cell_type": "code",
      "metadata": {
        "id": "FUbqnJnxqn3s",
        "colab_type": "code",
        "colab": {
          "base_uri": "https://localhost:8080/",
          "height": 296
        },
        "outputId": "0690d907-0ccb-423d-9504-e030338da9ce"
      },
      "source": [
        "sns.distplot(data['Current Credit Balance']**(1/2))\n",
        "#The plot doesnt look good. We need to transform it"
      ],
      "execution_count": null,
      "outputs": [
        {
          "output_type": "execute_result",
          "data": {
            "text/plain": [
              "<matplotlib.axes._subplots.AxesSubplot at 0x7fd2ef60a390>"
            ]
          },
          "metadata": {
            "tags": []
          },
          "execution_count": 134
        },
        {
          "output_type": "display_data",
          "data": {
            "image/png": "[encoded data removed]",
            "text/plain": [
              "<Figure size 432x288 with 1 Axes>"
            ]
          },
          "metadata": {
            "tags": [],
            "needs_background": "light"
          }
        }
      ]
    },
    {
      "cell_type": "code",
      "metadata": {
        "id": "tKb7e_5srH_I",
        "colab_type": "code",
        "colab": {}
      },
      "source": [
        "data['Current Credit Balance']=data['Current Credit Balance']**(1/2)"
      ],
      "execution_count": null,
      "outputs": []
    },
    {
      "cell_type": "code",
      "metadata": {
        "id": "w6drz3PwrKOH",
        "colab_type": "code",
        "colab": {}
      },
      "source": [
        "#######################Max open credit################"
      ],
      "execution_count": null,
      "outputs": []
    },
    {
      "cell_type": "code",
      "metadata": {
        "id": "244TkpfgrNuT",
        "colab_type": "code",
        "colab": {
          "base_uri": "https://localhost:8080/",
          "height": 102
        },
        "outputId": "49b02e1e-a99c-4540-a652-f2e89f07a3f8"
      },
      "source": [
        "data['Maximum Open Credit'].describe()"
      ],
      "execution_count": null,
      "outputs": [
        {
          "output_type": "execute_result",
          "data": {
            "text/plain": [
              "count     88910\n",
              "unique    46625\n",
              "top           0\n",
              "freq        610\n",
              "Name: Maximum Open Credit, dtype: object"
            ]
          },
          "metadata": {
            "tags": []
          },
          "execution_count": 138
        }
      ]
    },
    {
      "cell_type": "code",
      "metadata": {
        "id": "FzGfoZlkrUvd",
        "colab_type": "code",
        "colab": {
          "base_uri": "https://localhost:8080/",
          "height": 221
        },
        "outputId": "932e4aea-a1d4-4606-98d9-e9d136680fe0"
      },
      "source": [
        "data['Maximum Open Credit'].value_counts()"
      ],
      "execution_count": null,
      "outputs": [
        {
          "output_type": "execute_result",
          "data": {
            "text/plain": [
              "0        610\n",
              "10782     10\n",
              "11044     10\n",
              "14382     10\n",
              "17464     10\n",
              "        ... \n",
              "21452      1\n",
              "1583       1\n",
              "23326      1\n",
              "29187      1\n",
              "35350      1\n",
              "Name: Maximum Open Credit, Length: 46625, dtype: int64"
            ]
          },
          "metadata": {
            "tags": []
          },
          "execution_count": 139
        }
      ]
    },
    {
      "cell_type": "code",
      "metadata": {
        "id": "rAYzWhyerYV4",
        "colab_type": "code",
        "colab": {
          "base_uri": "https://localhost:8080/",
          "height": 575
        },
        "outputId": "5b38edc2-30f8-4cf3-9956-aa544f4bd686"
      },
      "source": [
        "sns.distplot(data['Maximum Open Credit'])\n",
        "#So there are some str characters present in the data. Lets find them\n"
      ],
      "execution_count": null,
      "outputs": [
        {
          "output_type": "error",
          "ename": "ValueError",
          "evalue": "ignored",
          "traceback": [
            "\u001b[0;31m---------------------------------------------------------------------------\u001b[0m",
            "\u001b[0;31mValueError\u001b[0m                                Traceback (most recent call last)",
            "\u001b[0;32m<ipython-input-140-aba05062d689>\u001b[0m in \u001b[0;36m<module>\u001b[0;34m()\u001b[0m\n\u001b[0;32m----> 1\u001b[0;31m \u001b[0msns\u001b[0m\u001b[0;34m.\u001b[0m\u001b[0mdistplot\u001b[0m\u001b[0;34m(\u001b[0m\u001b[0mdata\u001b[0m\u001b[0;34m[\u001b[0m\u001b[0;34m'Maximum Open Credit'\u001b[0m\u001b[0;34m]\u001b[0m\u001b[0;34m)\u001b[0m\u001b[0;34m\u001b[0m\u001b[0;34m\u001b[0m\u001b[0m\n\u001b[0m\u001b[1;32m      2\u001b[0m \u001b[0;31m#So there are some str characters present in the data. Lets find them\u001b[0m\u001b[0;34m\u001b[0m\u001b[0;34m\u001b[0m\u001b[0;34m\u001b[0m\u001b[0m\n",
            "\u001b[0;32m/usr/local/lib/python3.6/dist-packages/seaborn/distributions.py\u001b[0m in \u001b[0;36mdistplot\u001b[0;34m(a, bins, hist, kde, rug, fit, hist_kws, kde_kws, rug_kws, fit_kws, color, vertical, norm_hist, axlabel, label, ax)\u001b[0m\n\u001b[1;32m    175\u001b[0m \u001b[0;34m\u001b[0m\u001b[0m\n\u001b[1;32m    176\u001b[0m     \u001b[0;31m# Make a a 1-d float array\u001b[0m\u001b[0;34m\u001b[0m\u001b[0;34m\u001b[0m\u001b[0;34m\u001b[0m\u001b[0m\n\u001b[0;32m--> 177\u001b[0;31m     \u001b[0ma\u001b[0m \u001b[0;34m=\u001b[0m \u001b[0mnp\u001b[0m\u001b[0;34m.\u001b[0m\u001b[0masarray\u001b[0m\u001b[0;34m(\u001b[0m\u001b[0ma\u001b[0m\u001b[0;34m,\u001b[0m \u001b[0mnp\u001b[0m\u001b[0;34m.\u001b[0m\u001b[0mfloat\u001b[0m\u001b[0;34m)\u001b[0m\u001b[0;34m\u001b[0m\u001b[0;34m\u001b[0m\u001b[0m\n\u001b[0m\u001b[1;32m    178\u001b[0m     \u001b[0;32mif\u001b[0m \u001b[0ma\u001b[0m\u001b[0;34m.\u001b[0m\u001b[0mndim\u001b[0m \u001b[0;34m>\u001b[0m \u001b[0;36m1\u001b[0m\u001b[0;34m:\u001b[0m\u001b[0;34m\u001b[0m\u001b[0;34m\u001b[0m\u001b[0m\n\u001b[1;32m    179\u001b[0m         \u001b[0ma\u001b[0m \u001b[0;34m=\u001b[0m \u001b[0ma\u001b[0m\u001b[0;34m.\u001b[0m\u001b[0msqueeze\u001b[0m\u001b[0;34m(\u001b[0m\u001b[0;34m)\u001b[0m\u001b[0;34m\u001b[0m\u001b[0;34m\u001b[0m\u001b[0m\n",
            "\u001b[0;32m/usr/local/lib/python3.6/dist-packages/numpy/core/_asarray.py\u001b[0m in \u001b[0;36masarray\u001b[0;34m(a, dtype, order)\u001b[0m\n\u001b[1;32m     83\u001b[0m \u001b[0;34m\u001b[0m\u001b[0m\n\u001b[1;32m     84\u001b[0m     \"\"\"\n\u001b[0;32m---> 85\u001b[0;31m     \u001b[0;32mreturn\u001b[0m \u001b[0marray\u001b[0m\u001b[0;34m(\u001b[0m\u001b[0ma\u001b[0m\u001b[0;34m,\u001b[0m \u001b[0mdtype\u001b[0m\u001b[0;34m,\u001b[0m \u001b[0mcopy\u001b[0m\u001b[0;34m=\u001b[0m\u001b[0;32mFalse\u001b[0m\u001b[0;34m,\u001b[0m \u001b[0morder\u001b[0m\u001b[0;34m=\u001b[0m\u001b[0morder\u001b[0m\u001b[0;34m)\u001b[0m\u001b[0;34m\u001b[0m\u001b[0;34m\u001b[0m\u001b[0m\n\u001b[0m\u001b[1;32m     86\u001b[0m \u001b[0;34m\u001b[0m\u001b[0m\n\u001b[1;32m     87\u001b[0m \u001b[0;34m\u001b[0m\u001b[0m\n",
            "\u001b[0;32m/usr/local/lib/python3.6/dist-packages/pandas/core/series.py\u001b[0m in \u001b[0;36m__array__\u001b[0;34m(self, dtype)\u001b[0m\n\u001b[1;32m    752\u001b[0m               dtype='datetime64[ns]')\n\u001b[1;32m    753\u001b[0m         \"\"\"\n\u001b[0;32m--> 754\u001b[0;31m         \u001b[0;32mreturn\u001b[0m \u001b[0mnp\u001b[0m\u001b[0;34m.\u001b[0m\u001b[0masarray\u001b[0m\u001b[0;34m(\u001b[0m\u001b[0mself\u001b[0m\u001b[0;34m.\u001b[0m\u001b[0marray\u001b[0m\u001b[0;34m,\u001b[0m \u001b[0mdtype\u001b[0m\u001b[0;34m)\u001b[0m\u001b[0;34m\u001b[0m\u001b[0;34m\u001b[0m\u001b[0m\n\u001b[0m\u001b[1;32m    755\u001b[0m \u001b[0;34m\u001b[0m\u001b[0m\n\u001b[1;32m    756\u001b[0m     \u001b[0;31m# ----------------------------------------------------------------------\u001b[0m\u001b[0;34m\u001b[0m\u001b[0;34m\u001b[0m\u001b[0;34m\u001b[0m\u001b[0m\n",
            "\u001b[0;32m/usr/local/lib/python3.6/dist-packages/numpy/core/_asarray.py\u001b[0m in \u001b[0;36masarray\u001b[0;34m(a, dtype, order)\u001b[0m\n\u001b[1;32m     83\u001b[0m \u001b[0;34m\u001b[0m\u001b[0m\n\u001b[1;32m     84\u001b[0m     \"\"\"\n\u001b[0;32m---> 85\u001b[0;31m     \u001b[0;32mreturn\u001b[0m \u001b[0marray\u001b[0m\u001b[0;34m(\u001b[0m\u001b[0ma\u001b[0m\u001b[0;34m,\u001b[0m \u001b[0mdtype\u001b[0m\u001b[0;34m,\u001b[0m \u001b[0mcopy\u001b[0m\u001b[0;34m=\u001b[0m\u001b[0;32mFalse\u001b[0m\u001b[0;34m,\u001b[0m \u001b[0morder\u001b[0m\u001b[0;34m=\u001b[0m\u001b[0morder\u001b[0m\u001b[0;34m)\u001b[0m\u001b[0;34m\u001b[0m\u001b[0;34m\u001b[0m\u001b[0m\n\u001b[0m\u001b[1;32m     86\u001b[0m \u001b[0;34m\u001b[0m\u001b[0m\n\u001b[1;32m     87\u001b[0m \u001b[0;34m\u001b[0m\u001b[0m\n",
            "\u001b[0;32m/usr/local/lib/python3.6/dist-packages/pandas/core/arrays/numpy_.py\u001b[0m in \u001b[0;36m__array__\u001b[0;34m(self, dtype)\u001b[0m\n\u001b[1;32m    182\u001b[0m \u001b[0;34m\u001b[0m\u001b[0m\n\u001b[1;32m    183\u001b[0m     \u001b[0;32mdef\u001b[0m \u001b[0m__array__\u001b[0m\u001b[0;34m(\u001b[0m\u001b[0mself\u001b[0m\u001b[0;34m,\u001b[0m \u001b[0mdtype\u001b[0m\u001b[0;34m=\u001b[0m\u001b[0;32mNone\u001b[0m\u001b[0;34m)\u001b[0m \u001b[0;34m->\u001b[0m \u001b[0mnp\u001b[0m\u001b[0;34m.\u001b[0m\u001b[0mndarray\u001b[0m\u001b[0;34m:\u001b[0m\u001b[0;34m\u001b[0m\u001b[0;34m\u001b[0m\u001b[0m\n\u001b[0;32m--> 184\u001b[0;31m         \u001b[0;32mreturn\u001b[0m \u001b[0mnp\u001b[0m\u001b[0;34m.\u001b[0m\u001b[0masarray\u001b[0m\u001b[0;34m(\u001b[0m\u001b[0mself\u001b[0m\u001b[0;34m.\u001b[0m\u001b[0m_ndarray\u001b[0m\u001b[0;34m,\u001b[0m \u001b[0mdtype\u001b[0m\u001b[0;34m=\u001b[0m\u001b[0mdtype\u001b[0m\u001b[0;34m)\u001b[0m\u001b[0;34m\u001b[0m\u001b[0;34m\u001b[0m\u001b[0m\n\u001b[0m\u001b[1;32m    185\u001b[0m \u001b[0;34m\u001b[0m\u001b[0m\n\u001b[1;32m    186\u001b[0m     \u001b[0m_HANDLED_TYPES\u001b[0m \u001b[0;34m=\u001b[0m \u001b[0;34m(\u001b[0m\u001b[0mnp\u001b[0m\u001b[0;34m.\u001b[0m\u001b[0mndarray\u001b[0m\u001b[0;34m,\u001b[0m \u001b[0mnumbers\u001b[0m\u001b[0;34m.\u001b[0m\u001b[0mNumber\u001b[0m\u001b[0;34m)\u001b[0m\u001b[0;34m\u001b[0m\u001b[0;34m\u001b[0m\u001b[0m\n",
            "\u001b[0;32m/usr/local/lib/python3.6/dist-packages/numpy/core/_asarray.py\u001b[0m in \u001b[0;36masarray\u001b[0;34m(a, dtype, order)\u001b[0m\n\u001b[1;32m     83\u001b[0m \u001b[0;34m\u001b[0m\u001b[0m\n\u001b[1;32m     84\u001b[0m     \"\"\"\n\u001b[0;32m---> 85\u001b[0;31m     \u001b[0;32mreturn\u001b[0m \u001b[0marray\u001b[0m\u001b[0;34m(\u001b[0m\u001b[0ma\u001b[0m\u001b[0;34m,\u001b[0m \u001b[0mdtype\u001b[0m\u001b[0;34m,\u001b[0m \u001b[0mcopy\u001b[0m\u001b[0;34m=\u001b[0m\u001b[0;32mFalse\u001b[0m\u001b[0;34m,\u001b[0m \u001b[0morder\u001b[0m\u001b[0;34m=\u001b[0m\u001b[0morder\u001b[0m\u001b[0;34m)\u001b[0m\u001b[0;34m\u001b[0m\u001b[0;34m\u001b[0m\u001b[0m\n\u001b[0m\u001b[1;32m     86\u001b[0m \u001b[0;34m\u001b[0m\u001b[0m\n\u001b[1;32m     87\u001b[0m \u001b[0;34m\u001b[0m\u001b[0m\n",
            "\u001b[0;31mValueError\u001b[0m: could not convert string to float: '#VALUE!'"
          ]
        },
        {
          "output_type": "display_data",
          "data": {
            "image/png": "[encoded data removed]",
            "text/plain": [
              "<Figure size 432x288 with 1 Axes>"
            ]
          },
          "metadata": {
            "tags": [],
            "needs_background": "light"
          }
        }
      ]
    },
    {
      "cell_type": "code",
      "metadata": {
        "id": "LV1OFrWWre5T",
        "colab_type": "code",
        "colab": {}
      },
      "source": [
        "#Lets replace #value with Nan\n",
        "data['Maximum Open Credit']=data['Maximum Open Credit'].replace('#VALUE!', np.nan, regex=True)\n",
        "data['Maximum Open Credit']=pd.to_numeric(data['Maximum Open Credit'])\n"
      ],
      "execution_count": null,
      "outputs": []
    },
    {
      "cell_type": "code",
      "metadata": {
        "id": "pKkb45AIsLok",
        "colab_type": "code",
        "colab": {
          "base_uri": "https://localhost:8080/",
          "height": 34
        },
        "outputId": "e5193b43-92ae-4176-9b0d-dbc8b80e4f71"
      },
      "source": [
        "data['Maximum Open Credit'].isnull().sum()\n",
        "#Now we have only 2 Nan;s in the data. Lets replace them with mean  "
      ],
      "execution_count": null,
      "outputs": [
        {
          "output_type": "execute_result",
          "data": {
            "text/plain": [
              "2"
            ]
          },
          "metadata": {
            "tags": []
          },
          "execution_count": 144
        }
      ]
    },
    {
      "cell_type": "code",
      "metadata": {
        "id": "sJAFxJLOsR2j",
        "colab_type": "code",
        "colab": {}
      },
      "source": [
        "data['Maximum Open Credit']=data['Maximum Open Credit'].fillna(35965)"
      ],
      "execution_count": null,
      "outputs": []
    },
    {
      "cell_type": "code",
      "metadata": {
        "id": "RyASgtyKsh_u",
        "colab_type": "code",
        "colab": {
          "base_uri": "https://localhost:8080/",
          "height": 136
        },
        "outputId": "9b668d64-32a1-4aa3-e8df-d0d4c86b173c"
      },
      "source": [
        "data['Maximum Open Credit'].quantile([0.55,0.76,0.87,0.98,0.99,1])\n",
        "#Lets replace the outliers"
      ],
      "execution_count": null,
      "outputs": [
        {
          "output_type": "execute_result",
          "data": {
            "text/plain": [
              "0.55       24037.95\n",
              "0.76       37259.84\n",
              "0.87       50736.66\n",
              "0.98      114682.56\n",
              "0.99      171423.91\n",
              "1.00    69988086.00\n",
              "Name: Maximum Open Credit, dtype: float64"
            ]
          },
          "metadata": {
            "tags": []
          },
          "execution_count": 146
        }
      ]
    },
    {
      "cell_type": "code",
      "metadata": {
        "id": "J2HjbPFMspha",
        "colab_type": "code",
        "colab": {}
      },
      "source": [
        "data.loc[data['Maximum Open Credit'] > 171423, 'Maximum Open Credit'] = 171423"
      ],
      "execution_count": null,
      "outputs": []
    },
    {
      "cell_type": "code",
      "metadata": {
        "id": "HrtaBpRSs2XG",
        "colab_type": "code",
        "colab": {}
      },
      "source": [
        "###############Bankruptcies##########"
      ],
      "execution_count": null,
      "outputs": []
    },
    {
      "cell_type": "code",
      "metadata": {
        "id": "S2ry5LZWs5AX",
        "colab_type": "code",
        "colab": {
          "base_uri": "https://localhost:8080/",
          "height": 170
        },
        "outputId": "0074b1d6-3eaf-4f2a-ff08-738b6c178e04"
      },
      "source": [
        "data['Bankruptcies'].describe()"
      ],
      "execution_count": null,
      "outputs": [
        {
          "output_type": "execute_result",
          "data": {
            "text/plain": [
              "count    88718.000000\n",
              "mean         0.112672\n",
              "std          0.343300\n",
              "min          0.000000\n",
              "25%          0.000000\n",
              "50%          0.000000\n",
              "75%          0.000000\n",
              "max          7.000000\n",
              "Name: Bankruptcies, dtype: float64"
            ]
          },
          "metadata": {
            "tags": []
          },
          "execution_count": 150
        }
      ]
    },
    {
      "cell_type": "code",
      "metadata": {
        "id": "1F3bewyMs_S2",
        "colab_type": "code",
        "colab": {
          "base_uri": "https://localhost:8080/",
          "height": 170
        },
        "outputId": "9381725e-a7b8-47b1-cd42-d66fc425d6fd"
      },
      "source": [
        "data['Bankruptcies'].value_counts()"
      ],
      "execution_count": null,
      "outputs": [
        {
          "output_type": "execute_result",
          "data": {
            "text/plain": [
              "0.0    79323\n",
              "1.0     8936\n",
              "2.0      353\n",
              "3.0      272\n",
              "4.0       19\n",
              "5.0        5\n",
              "7.0        1\n",
              "6.0        1\n",
              "Name: Bankruptcies, dtype: int64"
            ]
          },
          "metadata": {
            "tags": []
          },
          "execution_count": 161
        }
      ]
    },
    {
      "cell_type": "code",
      "metadata": {
        "id": "0-cgD5AqtCoy",
        "colab_type": "code",
        "colab": {
          "base_uri": "https://localhost:8080/",
          "height": 34
        },
        "outputId": "d285070a-20a4-4e96-a2bb-3a3ae47ce073"
      },
      "source": [
        "data['Bankruptcies'].unique()"
      ],
      "execution_count": null,
      "outputs": [
        {
          "output_type": "execute_result",
          "data": {
            "text/plain": [
              "array([ 0.,  1., nan,  2.,  4.,  3.,  5.,  7.,  6.])"
            ]
          },
          "metadata": {
            "tags": []
          },
          "execution_count": 152
        }
      ]
    },
    {
      "cell_type": "code",
      "metadata": {
        "id": "lmqt9OwFtFtF",
        "colab_type": "code",
        "colab": {}
      },
      "source": [
        "#So we have Nan's. Lets fill them with median\n",
        "data['Bankruptcies']=data['Bankruptcies'].fillna(3)"
      ],
      "execution_count": null,
      "outputs": []
    },
    {
      "cell_type": "code",
      "metadata": {
        "id": "hPZq7WA-tqSk",
        "colab_type": "code",
        "colab": {}
      },
      "source": [
        "####Tax Liens######"
      ],
      "execution_count": null,
      "outputs": []
    },
    {
      "cell_type": "code",
      "metadata": {
        "id": "oDoPb4wMtqO8",
        "colab_type": "code",
        "colab": {
          "base_uri": "https://localhost:8080/",
          "height": 170
        },
        "outputId": "ea05bc36-acf5-4fb2-fb93-cc4b1271eb3c"
      },
      "source": [
        "data['Tax Liens'].describe()"
      ],
      "execution_count": null,
      "outputs": [
        {
          "output_type": "execute_result",
          "data": {
            "text/plain": [
              "count    88902.000000\n",
              "mean         0.028222\n",
              "std          0.257533\n",
              "min          0.000000\n",
              "25%          0.000000\n",
              "50%          0.000000\n",
              "75%          0.000000\n",
              "max         15.000000\n",
              "Name: Tax Liens, dtype: float64"
            ]
          },
          "metadata": {
            "tags": []
          },
          "execution_count": 155
        }
      ]
    },
    {
      "cell_type": "code",
      "metadata": {
        "id": "Z6WtnEa-tqLO",
        "colab_type": "code",
        "colab": {
          "base_uri": "https://localhost:8080/",
          "height": 255
        },
        "outputId": "07522804-5066-40b7-958a-c491d29e47b2"
      },
      "source": [
        "data['Tax Liens'].value_counts()"
      ],
      "execution_count": null,
      "outputs": [
        {
          "output_type": "execute_result",
          "data": {
            "text/plain": [
              "0.0     87274\n",
              "1.0      1132\n",
              "2.0       305\n",
              "3.0        99\n",
              "4.0        52\n",
              "5.0        17\n",
              "6.0         9\n",
              "7.0         5\n",
              "9.0         4\n",
              "8.0         2\n",
              "15.0        1\n",
              "11.0        1\n",
              "10.0        1\n",
              "Name: Tax Liens, dtype: int64"
            ]
          },
          "metadata": {
            "tags": []
          },
          "execution_count": 156
        }
      ]
    },
    {
      "cell_type": "code",
      "metadata": {
        "id": "3UlG2vQQtyZw",
        "colab_type": "code",
        "colab": {
          "base_uri": "https://localhost:8080/",
          "height": 34
        },
        "outputId": "05855bea-33dd-4b9c-e1bc-629a5183d1fa"
      },
      "source": [
        "data['Bankruptcies'].unique()"
      ],
      "execution_count": null,
      "outputs": [
        {
          "output_type": "execute_result",
          "data": {
            "text/plain": [
              "array([0., 1., 3., 2., 4., 5., 7., 6.])"
            ]
          },
          "metadata": {
            "tags": []
          },
          "execution_count": 157
        }
      ]
    },
    {
      "cell_type": "code",
      "metadata": {
        "id": "02N9qet3uZGr",
        "colab_type": "code",
        "colab": {}
      },
      "source": [
        "################Now we will impute missing values to the columns which have NA's ####################\n",
        "\n",
        "###Converting all the categorical columns into numbers"
      ],
      "execution_count": null,
      "outputs": []
    },
    {
      "cell_type": "code",
      "metadata": {
        "id": "IzFhhsaPutQU",
        "colab_type": "code",
        "colab": {}
      },
      "source": [
        "###Converting all the categorical columns into numbers\n",
        "cat_cols = ['Term','Years in current job','Home Ownership','Purpose']\n",
        "\n",
        "for c in cat_cols:\n",
        "    data[c] = pd.factorize(data[c])[0]\n"
      ],
      "execution_count": null,
      "outputs": []
    },
    {
      "cell_type": "code",
      "metadata": {
        "id": "hZDuV_60vBzb",
        "colab_type": "code",
        "colab": {
          "base_uri": "https://localhost:8080/",
          "height": 1000
        },
        "outputId": "4ce49048-2e8c-4ce9-f8b3-1c8d7bc21dc8"
      },
      "source": [
        "#Imputing missing data with soft impute\n",
        "updated_data=pd.DataFrame(data=SoftImpute().fit_transform(data[data.columns[3:19]],), columns=data[data.columns[3:19]].columns, index=data.index)"
      ],
      "execution_count": null,
      "outputs": [
        {
          "output_type": "stream",
          "text": [
            "[SoftImpute] Max Singular Value of X_init = 23093178.732064\n",
            "[SoftImpute] Iter 1: observed MAE=260.284757 rank=3\n",
            "[SoftImpute] Iter 2: observed MAE=260.241156 rank=3\n",
            "[SoftImpute] Iter 3: observed MAE=260.246987 rank=3\n",
            "[SoftImpute] Iter 4: observed MAE=260.265507 rank=3\n",
            "[SoftImpute] Iter 5: observed MAE=260.286889 rank=3\n",
            "[SoftImpute] Iter 6: observed MAE=260.308362 rank=3\n",
            "[SoftImpute] Iter 7: observed MAE=260.329046 rank=3\n",
            "[SoftImpute] Iter 8: observed MAE=260.348584 rank=3\n",
            "[SoftImpute] Iter 9: observed MAE=260.366980 rank=3\n",
            "[SoftImpute] Iter 10: observed MAE=260.384092 rank=3\n",
            "[SoftImpute] Iter 11: observed MAE=260.400008 rank=3\n",
            "[SoftImpute] Iter 12: observed MAE=260.414651 rank=3\n",
            "[SoftImpute] Iter 13: observed MAE=260.428125 rank=3\n",
            "[SoftImpute] Iter 14: observed MAE=260.440400 rank=3\n",
            "[SoftImpute] Iter 15: observed MAE=260.451533 rank=3\n",
            "[SoftImpute] Iter 16: observed MAE=260.461542 rank=3\n",
            "[SoftImpute] Iter 17: observed MAE=260.470552 rank=3\n",
            "[SoftImpute] Iter 18: observed MAE=260.478698 rank=3\n",
            "[SoftImpute] Iter 19: observed MAE=260.485835 rank=3\n",
            "[SoftImpute] Iter 20: observed MAE=260.492068 rank=3\n",
            "[SoftImpute] Iter 21: observed MAE=260.497462 rank=3\n",
            "[SoftImpute] Iter 22: observed MAE=260.502062 rank=3\n",
            "[SoftImpute] Iter 23: observed MAE=260.505851 rank=3\n",
            "[SoftImpute] Iter 24: observed MAE=260.508905 rank=3\n",
            "[SoftImpute] Iter 25: observed MAE=260.511287 rank=3\n",
            "[SoftImpute] Iter 26: observed MAE=260.513040 rank=3\n",
            "[SoftImpute] Iter 27: observed MAE=260.514145 rank=3\n",
            "[SoftImpute] Iter 28: observed MAE=260.514705 rank=3\n",
            "[SoftImpute] Iter 29: observed MAE=260.514679 rank=3\n",
            "[SoftImpute] Iter 30: observed MAE=260.514048 rank=3\n",
            "[SoftImpute] Iter 31: observed MAE=260.512881 rank=3\n",
            "[SoftImpute] Iter 32: observed MAE=260.511171 rank=3\n",
            "[SoftImpute] Iter 33: observed MAE=260.508979 rank=3\n",
            "[SoftImpute] Iter 34: observed MAE=260.506418 rank=3\n",
            "[SoftImpute] Iter 35: observed MAE=260.503457 rank=3\n",
            "[SoftImpute] Iter 36: observed MAE=260.500207 rank=3\n",
            "[SoftImpute] Iter 37: observed MAE=260.496663 rank=3\n",
            "[SoftImpute] Iter 38: observed MAE=260.492814 rank=3\n",
            "[SoftImpute] Iter 39: observed MAE=260.488651 rank=3\n",
            "[SoftImpute] Iter 40: observed MAE=260.484188 rank=3\n",
            "[SoftImpute] Iter 41: observed MAE=260.479511 rank=3\n",
            "[SoftImpute] Iter 42: observed MAE=260.474593 rank=3\n",
            "[SoftImpute] Iter 43: observed MAE=260.469448 rank=3\n",
            "[SoftImpute] Iter 44: observed MAE=260.464164 rank=3\n",
            "[SoftImpute] Iter 45: observed MAE=260.458682 rank=3\n",
            "[SoftImpute] Iter 46: observed MAE=260.453076 rank=3\n",
            "[SoftImpute] Iter 47: observed MAE=260.447342 rank=3\n",
            "[SoftImpute] Iter 48: observed MAE=260.441478 rank=3\n",
            "[SoftImpute] Iter 49: observed MAE=260.435493 rank=3\n",
            "[SoftImpute] Iter 50: observed MAE=260.429394 rank=3\n",
            "[SoftImpute] Iter 51: observed MAE=260.423178 rank=3\n",
            "[SoftImpute] Iter 52: observed MAE=260.416894 rank=3\n",
            "[SoftImpute] Iter 53: observed MAE=260.410548 rank=3\n",
            "[SoftImpute] Iter 54: observed MAE=260.404124 rank=3\n",
            "[SoftImpute] Iter 55: observed MAE=260.397686 rank=3\n",
            "[SoftImpute] Iter 56: observed MAE=260.391263 rank=3\n",
            "[SoftImpute] Iter 57: observed MAE=260.384837 rank=3\n",
            "[SoftImpute] Iter 58: observed MAE=260.378373 rank=3\n",
            "[SoftImpute] Iter 59: observed MAE=260.371880 rank=3\n",
            "[SoftImpute] Iter 60: observed MAE=260.365391 rank=3\n",
            "[SoftImpute] Iter 61: observed MAE=260.358904 rank=3\n",
            "[SoftImpute] Iter 62: observed MAE=260.352429 rank=3\n",
            "[SoftImpute] Iter 63: observed MAE=260.345960 rank=3\n",
            "[SoftImpute] Iter 64: observed MAE=260.339510 rank=3\n",
            "[SoftImpute] Iter 65: observed MAE=260.333066 rank=3\n",
            "[SoftImpute] Iter 66: observed MAE=260.326660 rank=3\n",
            "[SoftImpute] Iter 67: observed MAE=260.320293 rank=3\n",
            "[SoftImpute] Iter 68: observed MAE=260.313975 rank=3\n",
            "[SoftImpute] Iter 69: observed MAE=260.307723 rank=3\n",
            "[SoftImpute] Iter 70: observed MAE=260.301529 rank=3\n",
            "[SoftImpute] Iter 71: observed MAE=260.295386 rank=3\n",
            "[SoftImpute] Iter 72: observed MAE=260.289302 rank=3\n",
            "[SoftImpute] Iter 73: observed MAE=260.283271 rank=3\n",
            "[SoftImpute] Iter 74: observed MAE=260.277318 rank=3\n",
            "[SoftImpute] Iter 75: observed MAE=260.271435 rank=3\n",
            "[SoftImpute] Iter 76: observed MAE=260.265610 rank=3\n",
            "[SoftImpute] Iter 77: observed MAE=260.259843 rank=3\n",
            "[SoftImpute] Iter 78: observed MAE=260.254148 rank=3\n",
            "[SoftImpute] Iter 79: observed MAE=260.248515 rank=3\n",
            "[SoftImpute] Iter 80: observed MAE=260.242961 rank=3\n",
            "[SoftImpute] Iter 81: observed MAE=260.237480 rank=3\n",
            "[SoftImpute] Iter 82: observed MAE=260.232066 rank=3\n",
            "[SoftImpute] Iter 83: observed MAE=260.226722 rank=3\n",
            "[SoftImpute] Iter 84: observed MAE=260.221454 rank=3\n",
            "[SoftImpute] Iter 85: observed MAE=260.216270 rank=3\n",
            "[SoftImpute] Iter 86: observed MAE=260.211177 rank=3\n",
            "[SoftImpute] Iter 87: observed MAE=260.206166 rank=3\n",
            "[SoftImpute] Iter 88: observed MAE=260.201235 rank=3\n",
            "[SoftImpute] Iter 89: observed MAE=260.196379 rank=3\n",
            "[SoftImpute] Iter 90: observed MAE=260.191596 rank=3\n",
            "[SoftImpute] Iter 91: observed MAE=260.186885 rank=3\n",
            "[SoftImpute] Iter 92: observed MAE=260.182249 rank=3\n",
            "[SoftImpute] Iter 93: observed MAE=260.177690 rank=3\n",
            "[SoftImpute] Iter 94: observed MAE=260.173200 rank=3\n",
            "[SoftImpute] Iter 95: observed MAE=260.168782 rank=3\n",
            "[SoftImpute] Iter 96: observed MAE=260.164443 rank=3\n",
            "[SoftImpute] Iter 97: observed MAE=260.160185 rank=3\n",
            "[SoftImpute] Iter 98: observed MAE=260.155999 rank=3\n",
            "[SoftImpute] Iter 99: observed MAE=260.151896 rank=3\n",
            "[SoftImpute] Iter 100: observed MAE=260.147871 rank=3\n",
            "[SoftImpute] Stopped after iteration 100 for lambda=461863.574641\n"
          ],
          "name": "stdout"
        }
      ]
    },
    {
      "cell_type": "code",
      "metadata": {
        "id": "QaU14oiF5C-X",
        "colab_type": "code",
        "colab": {}
      },
      "source": [
        "#Getting the dataset ready pd.get dummies function for dropping the dummy variables\n",
        "df_LC = pd.get_dummies(updated_data, drop_first=True)\n",
        "#df_LC['Loan_Status']=data['Loan Status']"
      ],
      "execution_count": null,
      "outputs": []
    },
    {
      "cell_type": "code",
      "metadata": {
        "id": "BzUuzP7M5Qrg",
        "colab_type": "code",
        "colab": {}
      },
      "source": [
        "#Binarizing the Target variable\n",
        "lb_style = LabelBinarizer()\n",
        "lb_results = lb_style.fit_transform(data['Loan Status'])\n",
        "y=lb_results\n",
        "y=y.ravel()\n"
      ],
      "execution_count": null,
      "outputs": []
    },
    {
      "cell_type": "code",
      "metadata": {
        "id": "bj2i0IoH5tiN",
        "colab_type": "code",
        "colab": {
          "base_uri": "https://localhost:8080/",
          "height": 272
        },
        "outputId": "58fed7c8-fe80-4d2f-da3d-dca74c61bf4d"
      },
      "source": [
        "#Scaling the independent variables\n",
        "X_scaled = preprocessing.scale(df_LC)\n",
        "print(X_scaled)\n",
        "print('   ')\n",
        "print(X_scaled.shape)\n"
      ],
      "execution_count": null,
      "outputs": [
        {
          "output_type": "stream",
          "text": [
            "[[-0.1869176  -0.57302977  0.06886311 ... -0.79845518 -0.32295035\n",
            "  -0.10958408]\n",
            " [ 1.48349848  1.74511004  0.26644983 ...  1.83825771 -0.32295035\n",
            "  -0.10958408]\n",
            " [ 0.32079375 -0.57302977 -0.08920626 ... -0.53977375  2.39304617\n",
            "  -0.10958408]\n",
            " ...\n",
            " [ 1.40247376 -0.57302977  0.78017528 ...  0.91232955 -0.32295035\n",
            "  -0.10958408]\n",
            " [-1.1281112  -0.57302977 -0.16824094 ... -0.4039368  -0.32295035\n",
            "  -0.10958408]\n",
            " [ 0.62515919 -0.57302977 -0.32631031 ... -0.30218149 -0.32295035\n",
            "   3.77361205]]\n",
            "   \n",
            "(88910, 16)\n"
          ],
          "name": "stdout"
        }
      ]
    },
    {
      "cell_type": "code",
      "metadata": {
        "id": "MF8EIQLF9FAp",
        "colab_type": "code",
        "colab": {}
      },
      "source": [
        "#######Looking at other models using different classifiers\n",
        "X_train, X_test, y_train, y_test = train_test_split(X_scaled, y, test_size=0.3, random_state=22)"
      ],
      "execution_count": null,
      "outputs": []
    },
    {
      "cell_type": "code",
      "metadata": {
        "id": "mhjMCNxt92kP",
        "colab_type": "code",
        "colab": {}
      },
      "source": [
        "################NowFunctions####################"
      ],
      "execution_count": null,
      "outputs": []
    },
    {
      "cell_type": "code",
      "metadata": {
        "id": "TBdZ1BWA9vlo",
        "colab_type": "code",
        "colab": {}
      },
      "source": [
        "\n",
        "def classify(est, x, y,X_test,y_test):\n",
        "    #Passing the model and train test dataset to fit the model\n",
        "    est.fit(x, y)\n",
        "    #Predicting the probabilities of the Tet data\n",
        "    y2 = est.predict_proba(X_test)\n",
        "    y1 = est.predict(X_test)\n",
        "\n",
        "    print(\"Accuracy: \", metrics.accuracy_score(y_test, y1))\n",
        "    print(\"Area under the ROC curve: \", metrics.roc_auc_score(y_test, y2[:, 1]))\n",
        "    #Calculate different metrics\n",
        "    print(\"F-metric: \", metrics.f1_score(y_test, y1))\n",
        "    print(\" \")\n",
        "    print(\"Classification report:\")\n",
        "    print(metrics.classification_report(y_test, y1))\n",
        "    print(\" \")\n",
        "    print(\"Evaluation by cross-validation:\")\n",
        "    print(cross_val_score(est, x, y))\n",
        "    \n",
        "    return est, y1, y2[:, 1]"
      ],
      "execution_count": null,
      "outputs": []
    },
    {
      "cell_type": "code",
      "metadata": {
        "id": "tNN7yyU7-j8t",
        "colab_type": "code",
        "colab": {}
      },
      "source": [
        "\n",
        "#Function to find which features are more important than others through model\n",
        "def feat_importance(estimator):\n",
        "    feature_importance = {}\n",
        "    for index, name in enumerate(df_LC.columns):\n",
        "        feature_importance[name] = estimator.feature_importances_[index]\n",
        "\n",
        "    feature_importance = {k: v for k, v in feature_importance.items()}\n",
        "    sorted_x = sorted(feature_importance.items(), key=operator.itemgetter(1), reverse = True)\n",
        "    \n",
        "    return sorted_x"
      ],
      "execution_count": null,
      "outputs": []
    },
    {
      "cell_type": "code",
      "metadata": {
        "id": "DS4RoYBm_aSi",
        "colab_type": "code",
        "colab": {}
      },
      "source": [
        "#Model to  predict the ROC curve for various models and finding the best one\n",
        "def run_models(X_train, y_train, X_test, y_test, model_type = 'Non-balanced'):\n",
        "    \n",
        "    clfs = {'GradientBoosting': GradientBoostingClassifier(max_depth= 6, n_estimators=100, max_features = 0.3),\n",
        "            'LogisticRegression' : LogisticRegression(),\n",
        "            #'GaussianNB': GaussianNB(),\n",
        "            'RandomForestClassifier': RandomForestClassifier(n_estimators=10),\n",
        "            'XGBClassifier': XGBClassifier()\n",
        "            }\n",
        "    cols = ['model','matthews_corrcoef', 'roc_auc_score', 'precision_score', 'recall_score','f1_score']\n",
        "\n",
        "    models_report = pd.DataFrame(columns = cols)\n",
        "    conf_matrix = dict()\n",
        "\n",
        "    for clf, clf_name in zip(clfs.values(), clfs.keys()):\n",
        "\n",
        "        clf.fit(X_train, y_train)\n",
        "\n",
        "        y_pred = clf.predict(X_test)\n",
        "        y_score = clf.predict_proba(X_test)[:,1]\n",
        "\n",
        "        print('computing {} - {} '.format(clf_name, model_type))\n",
        "\n",
        "        tmp = pd.Series({'model_type': model_type,\n",
        "                         'model': clf_name,\n",
        "                         'roc_auc_score' : metrics.roc_auc_score(y_test, y_score),\n",
        "                         'matthews_corrcoef': metrics.matthews_corrcoef(y_test, y_pred),\n",
        "                         'precision_score': metrics.precision_score(y_test, y_pred),\n",
        "                         'recall_score': metrics.recall_score(y_test, y_pred),\n",
        "                         'f1_score': metrics.f1_score(y_test, y_pred)})\n",
        "\n",
        "        models_report = models_report.append(tmp, ignore_index = True)\n",
        "        conf_matrix[clf_name] = pd.crosstab(y_test, y_pred, rownames=['True'], colnames= ['Predicted'], margins=False)\n",
        "        fpr, tpr, thresholds = metrics.roc_curve(y_test, y_score, drop_intermediate = False, pos_label = 1)\n",
        "\n",
        "        plt.figure(1, figsize=(6,6))\n",
        "        plt.xlabel('false positive rate')\n",
        "        plt.ylabel('true positive rate')\n",
        "        plt.title('ROC curve - {}'.format(model_type))\n",
        "        plt.plot(fpr, tpr, label = clf_name )\n",
        "        plt.legend(loc=2, prop={'size':11})\n",
        "    plt.plot([0,1],[0,1], color = 'black')\n",
        "    \n",
        "    return models_report, conf_matrix\n",
        "\n"
      ],
      "execution_count": null,
      "outputs": []
    },
    {
      "cell_type": "code",
      "metadata": {
        "id": "IBboCXlp_qj3",
        "colab_type": "code",
        "colab": {}
      },
      "source": [
        "#Finding accuracy and feature importance using XGB classifier\n",
        "xgb0, y_pred_b, y_pred2_b = classify(XGBClassifier(), X_train, y_train,X_test,y_test)"
      ],
      "execution_count": null,
      "outputs": []
    },
    {
      "cell_type": "code",
      "metadata": {
        "id": "C3kW7Jgf_1vk",
        "colab_type": "code",
        "colab": {
          "base_uri": "https://localhost:8080/",
          "height": 306
        },
        "outputId": "c69f81ee-b1a1-42c6-dd63-a488656c41ca"
      },
      "source": [
        "#Finding accuracy and feature importance using XGB classifier\n",
        "xgb0, y_pred_b, y_pred2_b = classify(XGBClassifier(), X_train, y_train,X_test,y_test)"
      ],
      "execution_count": null,
      "outputs": [
        {
          "output_type": "stream",
          "text": [
            "Accuracy:  0.7313762981291944\n",
            "Area under the ROC curve:  0.7471533888487936\n",
            "F-metric:  0.318851601863295\n",
            " \n",
            "Classification report:\n",
            "              precision    recall  f1-score   support\n",
            "\n",
            "           0       0.75      0.94      0.83     18981\n",
            "           1       0.59      0.22      0.32      7692\n",
            "\n",
            "    accuracy                           0.73     26673\n",
            "   macro avg       0.67      0.58      0.58     26673\n",
            "weighted avg       0.70      0.73      0.68     26673\n",
            "\n",
            " \n",
            "Evaluation by cross-validation:\n",
            "[0.74027956 0.74100257 0.73929461 0.73760746 0.73391179]\n"
          ],
          "name": "stdout"
        }
      ]
    },
    {
      "cell_type": "code",
      "metadata": {
        "id": "dL69SNoxAmYr",
        "colab_type": "code",
        "colab": {
          "base_uri": "https://localhost:8080/",
          "height": 346
        },
        "outputId": "a37e1d5f-c13a-4c49-c26f-a7c0f1e79ec7"
      },
      "source": [
        "print(xgb0.feature_importances_)\n",
        "plot_importance(xgb0)\n",
        "pyplot.show()\n"
      ],
      "execution_count": null,
      "outputs": [
        {
          "output_type": "stream",
          "text": [
            "[0.25810808 0.22253321 0.21026482 0.02755453 0.04981292 0.05325364\n",
            " 0.0186639  0.02236626 0.01466306 0.01534298 0.01570477 0.00969497\n",
            " 0.02374542 0.02349943 0.01785571 0.01693625]\n"
          ],
          "name": "stdout"
        },
        {
          "output_type": "display_data",
          "data": {
            "image/png": "[encoded data removed]",
            "text/plain": [
              "<Figure size 432x288 with 1 Axes>"
            ]
          },
          "metadata": {
            "tags": [],
            "needs_background": "light"
          }
        }
      ]
    },
    {
      "cell_type": "code",
      "metadata": {
        "id": "9MSv3lr5AmUU",
        "colab_type": "code",
        "colab": {
          "base_uri": "https://localhost:8080/",
          "height": 306
        },
        "outputId": "84622e05-0689-4c66-ef04-9feb3f100009"
      },
      "source": [
        "\n",
        "#######K nearest Neighbour classifier ################\n",
        "\n",
        "knc, y_p, y_p2 = classify(KNeighborsClassifier(), X_train, y_train,X_test,y_test)"
      ],
      "execution_count": null,
      "outputs": [
        {
          "output_type": "stream",
          "text": [
            "Accuracy:  0.6827878378885015\n",
            "Area under the ROC curve:  0.6084508845819299\n",
            "F-metric:  0.3150651663563507\n",
            " \n",
            "Classification report:\n",
            "              precision    recall  f1-score   support\n",
            "\n",
            "           0       0.74      0.86      0.79     18981\n",
            "           1       0.42      0.25      0.32      7692\n",
            "\n",
            "    accuracy                           0.68     26673\n",
            "   macro avg       0.58      0.55      0.55     26673\n",
            "weighted avg       0.65      0.68      0.66     26673\n",
            "\n",
            " \n",
            "Evaluation by cross-validation:\n",
            "[0.69127571 0.69320373 0.69639271 0.69036716 0.68876034]\n"
          ],
          "name": "stdout"
        }
      ]
    },
    {
      "cell_type": "code",
      "metadata": {
        "id": "lunUDpVAHbpJ",
        "colab_type": "code",
        "colab": {
          "base_uri": "https://localhost:8080/",
          "height": 306
        },
        "outputId": "86904d22-dd4f-4d45-e2a8-7be539e5c43a"
      },
      "source": [
        "########Logistic Regression ##############\n",
        "logit, y_p, y_p2 = classify(LogisticRegression(), X_train, y_train,X_test,y_test)"
      ],
      "execution_count": null,
      "outputs": [
        {
          "output_type": "stream",
          "text": [
            "Accuracy:  0.7199040227945863\n",
            "Area under the ROC curve:  0.6738582055794744\n",
            "F-metric:  0.21233526620980497\n",
            " \n",
            "Classification report:\n",
            "              precision    recall  f1-score   support\n",
            "\n",
            "           0       0.73      0.96      0.83     18981\n",
            "           1       0.56      0.13      0.21      7692\n",
            "\n",
            "    accuracy                           0.72     26673\n",
            "   macro avg       0.65      0.54      0.52     26673\n",
            "weighted avg       0.68      0.72      0.65     26673\n",
            "\n",
            " \n",
            "Evaluation by cross-validation:\n",
            "[0.72646208 0.72983612 0.72684181 0.72876998 0.72627942]\n"
          ],
          "name": "stdout"
        }
      ]
    },
    {
      "cell_type": "code",
      "metadata": {
        "id": "GPj50-RzHnEo",
        "colab_type": "code",
        "colab": {
          "base_uri": "https://localhost:8080/",
          "height": 306
        },
        "outputId": "9e02620a-ade6-4713-9742-747652e45048"
      },
      "source": [
        "########Decision Tree Classifier ##########\n",
        "dtc, y_p, y_p2 = classify(DecisionTreeClassifier(), X_train, y_train,X_test,y_test)\n"
      ],
      "execution_count": null,
      "outputs": [
        {
          "output_type": "stream",
          "text": [
            "Accuracy:  0.648558467364001\n",
            "Area under the ROC curve:  0.5771637266628645\n",
            "F-metric:  0.40132839443096174\n",
            " \n",
            "Classification report:\n",
            "              precision    recall  f1-score   support\n",
            "\n",
            "           0       0.76      0.75      0.75     18981\n",
            "           1       0.39      0.41      0.40      7692\n",
            "\n",
            "    accuracy                           0.65     26673\n",
            "   macro avg       0.58      0.58      0.58     26673\n",
            "weighted avg       0.65      0.65      0.65     26673\n",
            "\n",
            " \n",
            "Evaluation by cross-validation:\n",
            "[0.65849936 0.65488432 0.65204467 0.65445489 0.65228569]\n"
          ],
          "name": "stdout"
        }
      ]
    },
    {
      "cell_type": "code",
      "metadata": {
        "id": "Zih7H6C0H6zM",
        "colab_type": "code",
        "colab": {
          "base_uri": "https://localhost:8080/",
          "height": 306
        },
        "outputId": "8f54d039-d82c-48d1-b633-6ee19ef6d2f8"
      },
      "source": [
        "xgb0, y_pred_b, y_pred2_b = classify(XGBClassifier(n_estimators=47, learning_rate=0.015), X_train, y_train,X_test,y_test)"
      ],
      "execution_count": null,
      "outputs": [
        {
          "output_type": "stream",
          "text": [
            "Accuracy:  0.7215911221084992\n",
            "Area under the ROC curve:  0.7215575114759502\n",
            "F-metric:  0.2509582408714948\n",
            " \n",
            "Classification report:\n",
            "              precision    recall  f1-score   support\n",
            "\n",
            "           0       0.74      0.95      0.83     18981\n",
            "           1       0.56      0.16      0.25      7692\n",
            "\n",
            "    accuracy                           0.72     26673\n",
            "   macro avg       0.65      0.56      0.54     26673\n",
            "weighted avg       0.69      0.72      0.66     26673\n",
            "\n",
            " \n",
            "Evaluation by cross-validation:\n",
            "[0.7314428  0.73264781 0.73262634 0.72893067 0.72965373]\n"
          ],
          "name": "stdout"
        }
      ]
    },
    {
      "cell_type": "code",
      "metadata": {
        "id": "B4RMjW3pITGt",
        "colab_type": "code",
        "colab": {
          "base_uri": "https://localhost:8080/",
          "height": 472
        },
        "outputId": "d6c5d499-e792-4b09-c2f6-d84296b19e19"
      },
      "source": [
        "#########Running on unbalanced dataset #############\n",
        "X_train, X_test, y_train, y_test = train_test_split(X_scaled, y, test_size=0.3, random_state=0)\n",
        "models_report, conf_matrix = run_models(X_train, y_train, X_test, y_test, model_type = 'Non-balanced')\n"
      ],
      "execution_count": null,
      "outputs": [
        {
          "output_type": "stream",
          "text": [
            "computing GradientBoosting - Non-balanced \n",
            "computing LogisticRegression - Non-balanced \n",
            "computing RandomForestClassifier - Non-balanced \n",
            "computing XGBClassifier - Non-balanced \n"
          ],
          "name": "stdout"
        },
        {
          "output_type": "display_data",
          "data": {
            "image/png": "[encoded data removed]",
            "text/plain": [
              "<Figure size 432x432 with 1 Axes>"
            ]
          },
          "metadata": {
            "tags": [],
            "needs_background": "light"
          }
        }
      ]
    },
    {
      "cell_type": "code",
      "metadata": {
        "id": "O3NFXba4Ja0b",
        "colab_type": "code",
        "colab": {
          "base_uri": "https://localhost:8080/",
          "height": 526
        },
        "outputId": "462197d2-4f74-405e-8090-45eb4d835868"
      },
      "source": [
        "##########Synthetically balancing the dataset##################\n",
        "index_split = int(len(X_scaled)/2)\n",
        "X_train, y_train = SMOTE().fit_sample(X_scaled[0:index_split, :], y[0:index_split])\n",
        "X_test, y_test = X_scaled[index_split:], y[index_split:]\n",
        "\n",
        "models_report_bal, conf_matrix_bal = run_models(X_train, y_train, X_test, y_test, model_type = 'Balanced')\n"
      ],
      "execution_count": null,
      "outputs": [
        {
          "output_type": "stream",
          "text": [
            "/usr/local/lib/python3.6/dist-packages/sklearn/utils/deprecation.py:87: FutureWarning: Function safe_indexing is deprecated; safe_indexing is deprecated in version 0.22 and will be removed in version 0.24.\n",
            "  warnings.warn(msg, category=FutureWarning)\n"
          ],
          "name": "stderr"
        },
        {
          "output_type": "stream",
          "text": [
            "computing GradientBoosting - Balanced \n",
            "computing LogisticRegression - Balanced \n",
            "computing RandomForestClassifier - Balanced \n",
            "computing XGBClassifier - Balanced \n"
          ],
          "name": "stdout"
        },
        {
          "output_type": "display_data",
          "data": {
            "image/png": "[encoded data removed]",
            "text/plain": [
              "<Figure size 432x432 with 1 Axes>"
            ]
          },
          "metadata": {
            "tags": [],
            "needs_background": "light"
          }
        }
      ]
    },
    {
      "cell_type": "code",
      "metadata": {
        "id": "9-Rqd8ojJ549",
        "colab_type": "code",
        "colab": {
          "base_uri": "https://localhost:8080/",
          "height": 34
        },
        "outputId": "38982dec-3bec-49c4-d58b-0e2c57447454"
      },
      "source": [
        "\n",
        "################Now we  know that GBM model performed the best so \n",
        "# save model\n",
        "gbm=GradientBoostingClassifier(max_depth= 6, n_estimators=100, max_features = 0.3)\n",
        "gbm.fit(X_scaled, y)\n",
        "joblib.dump(gbm, 'GBM_Model_version1.pkl')\n",
        "# load model\n",
        "#gbm_pickle = joblib.load('GBM_Model_version1.pkl')"
      ],
      "execution_count": null,
      "outputs": [
        {
          "output_type": "execute_result",
          "data": {
            "text/plain": [
              "['GBM_Model_version1.pkl']"
            ]
          },
          "metadata": {
            "tags": []
          },
          "execution_count": 190
        }
      ]
    },
    {
      "cell_type": "code",
      "metadata": {
        "id": "AxzKC2zMJ50j",
        "colab_type": "code",
        "colab": {}
      },
      "source": [
        ""
      ],
      "execution_count": null,
      "outputs": []
    }
  ]
}